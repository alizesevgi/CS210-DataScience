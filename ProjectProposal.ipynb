{
  "cells": [
    {
      "cell_type": "markdown",
      "metadata": {
        "id": "tPdlcstH11mU"
      },
      "source": [
        "# [TMDB 5000 Movies Project - Group 28]\n",
        "\n"
      ]
    },
    {
      "cell_type": "markdown",
      "metadata": {
        "id": "B1iB4MSX3-6L"
      },
      "source": [
        "\n",
        "\n",
        "\n",
        "## Introduction\n",
        "\n"
      ]
    },
    {
      "cell_type": "markdown",
      "metadata": {
        "id": "SvDZn4G_W5XF"
      },
      "source": [
        "The Movie DataBase which has shortened TMDb is a database that includes movies and TV series from all over the world. Since 2008 each data of TMDb collected  piece by piece and builded by the members of a community. Thus, the variation of his data is unmatched. Because of the variation and reliability of data, TMDb is chosen as a dataset. One of the other aspects of TMDB is the size of the data. Since 2008 over 200.000 developers contribute to the dataset  annually. The other important property of TMDb is multi-nationality of the dataset. Beneath the extensive regional data it also supports 39 different languages and is used by over 180 countries. The reliability of the data set comes  from a number of uses in years. The service is used by millions of people while they process over 3 billion requests. From TMDb the chosen dataset is TMDB 5000 Movies dataset because TMDB 5000 Movies data set gives us brief and specific information about only the movies. It includes data like popularity, budget, genre etc. This dataset gives us an opportunity to understand correlations between genres, producers and financial situations of a movie."
      ]
    },
    {
      "cell_type": "markdown",
      "metadata": {
        "id": "B2omK2BI4KyB"
      },
      "source": [
        "### Problem Definition\n",
        "\n"
      ]
    },
    {
      "cell_type": "markdown",
      "metadata": {
        "id": "2ear-DIDXBYH"
      },
      "source": [
        "The main aim of this project is answering the question “What is the average popularity for a movie in order to make a gain from box office?”. To solve this problem we need to foresee the average popularity of a movie needs to have more revenue than budget based on its genre. Because the popularity of each genre can vary.\n"
      ]
    },
    {
      "cell_type": "markdown",
      "metadata": {
        "id": "ZjWMWVoA4NcV"
      },
      "source": [
        "### Utilized Datasets\n",
        "\n"
      ]
    },
    {
      "cell_type": "markdown",
      "metadata": {
        "id": "f86bKVCpXIQu"
      },
      "source": [
        "Chosen dataset is “The TMDB 5000 Movies Dataset”. \n",
        "This dataset includes the budgets, multiple genres with IDs, homepage links, keywords, original language and title information, a little overview of the plot, how popular the movie was, which company produced it, and where it was produced, when it was released, how much money it made, its runtime, languages spoken in the movie, its publication status, tagline and title with some voting information. \n",
        "Using this dataset’s relational data of a movie’s budget, genre and popularity, we have theorized that we can somewhat accurately guess what the revenue is going to be. \n",
        "Link of dataset: https://www.kaggle.com/tmdb/tmdb-movie-metadata?select=tmdb_5000_movies.csv\n"
      ]
    },
    {
      "cell_type": "markdown",
      "metadata": {
        "id": "ict00io34o_x"
      },
      "source": [
        "## Data Exploration\n",
        "\n"
      ]
    },
    {
      "cell_type": "code",
      "execution_count": null,
      "metadata": {
        "colab": {
          "base_uri": "https://localhost:8080/"
        },
        "id": "c5capuT8hDb-",
        "outputId": "804a61dd-bdc5-4b8c-b1ed-5151ee0a6fcf",
        "vscode": {
          "languageId": "python"
        }
      },
      "outputs": [
        {
          "name": "stdout",
          "output_type": "stream",
          "text": [
            "Mounted at ./drive\n"
          ]
        }
      ],
      "source": [
        "from google.colab import drive\n",
        "drive.mount(\"./drive\")\n",
        "\n",
        "path_prefix = \"./drive/My Drive\""
      ]
    },
    {
      "cell_type": "code",
      "execution_count": null,
      "metadata": {
        "colab": {
          "base_uri": "https://localhost:8080/",
          "height": 791
        },
        "id": "areoxbALf0VN",
        "outputId": "88ff7432-32a4-4c08-f712-2f5a3cf6b4f2",
        "vscode": {
          "languageId": "python"
        }
      },
      "outputs": [
        {
          "name": "stdout",
          "output_type": "stream",
          "text": [
            "(4803, 20)\n"
          ]
        },
        {
          "data": {
            "text/html": [
              "\n",
              "  <div id=\"df-891e2ecf-f64e-4a76-bef2-d0d95f16fcc7\">\n",
              "    <div class=\"colab-df-container\">\n",
              "      <div>\n",
              "<style scoped>\n",
              "    .dataframe tbody tr th:only-of-type {\n",
              "        vertical-align: middle;\n",
              "    }\n",
              "\n",
              "    .dataframe tbody tr th {\n",
              "        vertical-align: top;\n",
              "    }\n",
              "\n",
              "    .dataframe thead th {\n",
              "        text-align: right;\n",
              "    }\n",
              "</style>\n",
              "<table border=\"1\" class=\"dataframe\">\n",
              "  <thead>\n",
              "    <tr style=\"text-align: right;\">\n",
              "      <th></th>\n",
              "      <th>budget</th>\n",
              "      <th>genres</th>\n",
              "      <th>homepage</th>\n",
              "      <th>id</th>\n",
              "      <th>keywords</th>\n",
              "      <th>original_language</th>\n",
              "      <th>original_title</th>\n",
              "      <th>overview</th>\n",
              "      <th>popularity</th>\n",
              "      <th>production_companies</th>\n",
              "      <th>production_countries</th>\n",
              "      <th>release_date</th>\n",
              "      <th>revenue</th>\n",
              "      <th>runtime</th>\n",
              "      <th>spoken_languages</th>\n",
              "      <th>status</th>\n",
              "      <th>tagline</th>\n",
              "      <th>title</th>\n",
              "      <th>vote_average</th>\n",
              "      <th>vote_count</th>\n",
              "    </tr>\n",
              "  </thead>\n",
              "  <tbody>\n",
              "    <tr>\n",
              "      <th>0</th>\n",
              "      <td>237000000</td>\n",
              "      <td>[{\"id\": 28, \"name\": \"Action\"}, {\"id\": 12, \"nam...</td>\n",
              "      <td>http://www.avatarmovie.com/</td>\n",
              "      <td>19995</td>\n",
              "      <td>[{\"id\": 1463, \"name\": \"culture clash\"}, {\"id\":...</td>\n",
              "      <td>en</td>\n",
              "      <td>Avatar</td>\n",
              "      <td>In the 22nd century, a paraplegic Marine is di...</td>\n",
              "      <td>150.437577</td>\n",
              "      <td>[{\"name\": \"Ingenious Film Partners\", \"id\": 289...</td>\n",
              "      <td>[{\"iso_3166_1\": \"US\", \"name\": \"United States o...</td>\n",
              "      <td>2009-12-10</td>\n",
              "      <td>2787965087</td>\n",
              "      <td>162.0</td>\n",
              "      <td>[{\"iso_639_1\": \"en\", \"name\": \"English\"}, {\"iso...</td>\n",
              "      <td>Released</td>\n",
              "      <td>Enter the World of Pandora.</td>\n",
              "      <td>Avatar</td>\n",
              "      <td>7.2</td>\n",
              "      <td>11800</td>\n",
              "    </tr>\n",
              "    <tr>\n",
              "      <th>1</th>\n",
              "      <td>300000000</td>\n",
              "      <td>[{\"id\": 12, \"name\": \"Adventure\"}, {\"id\": 14, \"...</td>\n",
              "      <td>http://disney.go.com/disneypictures/pirates/</td>\n",
              "      <td>285</td>\n",
              "      <td>[{\"id\": 270, \"name\": \"ocean\"}, {\"id\": 726, \"na...</td>\n",
              "      <td>en</td>\n",
              "      <td>Pirates of the Caribbean: At World's End</td>\n",
              "      <td>Captain Barbossa, long believed to be dead, ha...</td>\n",
              "      <td>139.082615</td>\n",
              "      <td>[{\"name\": \"Walt Disney Pictures\", \"id\": 2}, {\"...</td>\n",
              "      <td>[{\"iso_3166_1\": \"US\", \"name\": \"United States o...</td>\n",
              "      <td>2007-05-19</td>\n",
              "      <td>961000000</td>\n",
              "      <td>169.0</td>\n",
              "      <td>[{\"iso_639_1\": \"en\", \"name\": \"English\"}]</td>\n",
              "      <td>Released</td>\n",
              "      <td>At the end of the world, the adventure begins.</td>\n",
              "      <td>Pirates of the Caribbean: At World's End</td>\n",
              "      <td>6.9</td>\n",
              "      <td>4500</td>\n",
              "    </tr>\n",
              "    <tr>\n",
              "      <th>2</th>\n",
              "      <td>245000000</td>\n",
              "      <td>[{\"id\": 28, \"name\": \"Action\"}, {\"id\": 12, \"nam...</td>\n",
              "      <td>http://www.sonypictures.com/movies/spectre/</td>\n",
              "      <td>206647</td>\n",
              "      <td>[{\"id\": 470, \"name\": \"spy\"}, {\"id\": 818, \"name...</td>\n",
              "      <td>en</td>\n",
              "      <td>Spectre</td>\n",
              "      <td>A cryptic message from Bond’s past sends him o...</td>\n",
              "      <td>107.376788</td>\n",
              "      <td>[{\"name\": \"Columbia Pictures\", \"id\": 5}, {\"nam...</td>\n",
              "      <td>[{\"iso_3166_1\": \"GB\", \"name\": \"United Kingdom\"...</td>\n",
              "      <td>2015-10-26</td>\n",
              "      <td>880674609</td>\n",
              "      <td>148.0</td>\n",
              "      <td>[{\"iso_639_1\": \"fr\", \"name\": \"Fran\\u00e7ais\"},...</td>\n",
              "      <td>Released</td>\n",
              "      <td>A Plan No One Escapes</td>\n",
              "      <td>Spectre</td>\n",
              "      <td>6.3</td>\n",
              "      <td>4466</td>\n",
              "    </tr>\n",
              "    <tr>\n",
              "      <th>3</th>\n",
              "      <td>250000000</td>\n",
              "      <td>[{\"id\": 28, \"name\": \"Action\"}, {\"id\": 80, \"nam...</td>\n",
              "      <td>http://www.thedarkknightrises.com/</td>\n",
              "      <td>49026</td>\n",
              "      <td>[{\"id\": 849, \"name\": \"dc comics\"}, {\"id\": 853,...</td>\n",
              "      <td>en</td>\n",
              "      <td>The Dark Knight Rises</td>\n",
              "      <td>Following the death of District Attorney Harve...</td>\n",
              "      <td>112.312950</td>\n",
              "      <td>[{\"name\": \"Legendary Pictures\", \"id\": 923}, {\"...</td>\n",
              "      <td>[{\"iso_3166_1\": \"US\", \"name\": \"United States o...</td>\n",
              "      <td>2012-07-16</td>\n",
              "      <td>1084939099</td>\n",
              "      <td>165.0</td>\n",
              "      <td>[{\"iso_639_1\": \"en\", \"name\": \"English\"}]</td>\n",
              "      <td>Released</td>\n",
              "      <td>The Legend Ends</td>\n",
              "      <td>The Dark Knight Rises</td>\n",
              "      <td>7.6</td>\n",
              "      <td>9106</td>\n",
              "    </tr>\n",
              "    <tr>\n",
              "      <th>4</th>\n",
              "      <td>260000000</td>\n",
              "      <td>[{\"id\": 28, \"name\": \"Action\"}, {\"id\": 12, \"nam...</td>\n",
              "      <td>http://movies.disney.com/john-carter</td>\n",
              "      <td>49529</td>\n",
              "      <td>[{\"id\": 818, \"name\": \"based on novel\"}, {\"id\":...</td>\n",
              "      <td>en</td>\n",
              "      <td>John Carter</td>\n",
              "      <td>John Carter is a war-weary, former military ca...</td>\n",
              "      <td>43.926995</td>\n",
              "      <td>[{\"name\": \"Walt Disney Pictures\", \"id\": 2}]</td>\n",
              "      <td>[{\"iso_3166_1\": \"US\", \"name\": \"United States o...</td>\n",
              "      <td>2012-03-07</td>\n",
              "      <td>284139100</td>\n",
              "      <td>132.0</td>\n",
              "      <td>[{\"iso_639_1\": \"en\", \"name\": \"English\"}]</td>\n",
              "      <td>Released</td>\n",
              "      <td>Lost in our world, found in another.</td>\n",
              "      <td>John Carter</td>\n",
              "      <td>6.1</td>\n",
              "      <td>2124</td>\n",
              "    </tr>\n",
              "  </tbody>\n",
              "</table>\n",
              "</div>\n",
              "      <button class=\"colab-df-convert\" onclick=\"convertToInteractive('df-891e2ecf-f64e-4a76-bef2-d0d95f16fcc7')\"\n",
              "              title=\"Convert this dataframe to an interactive table.\"\n",
              "              style=\"display:none;\">\n",
              "        \n",
              "  <svg xmlns=\"http://www.w3.org/2000/svg\" height=\"24px\"viewBox=\"0 0 24 24\"\n",
              "       width=\"24px\">\n",
              "    <path d=\"M0 0h24v24H0V0z\" fill=\"none\"/>\n",
              "    <path d=\"M18.56 5.44l.94 2.06.94-2.06 2.06-.94-2.06-.94-.94-2.06-.94 2.06-2.06.94zm-11 1L8.5 8.5l.94-2.06 2.06-.94-2.06-.94L8.5 2.5l-.94 2.06-2.06.94zm10 10l.94 2.06.94-2.06 2.06-.94-2.06-.94-.94-2.06-.94 2.06-2.06.94z\"/><path d=\"M17.41 7.96l-1.37-1.37c-.4-.4-.92-.59-1.43-.59-.52 0-1.04.2-1.43.59L10.3 9.45l-7.72 7.72c-.78.78-.78 2.05 0 2.83L4 21.41c.39.39.9.59 1.41.59.51 0 1.02-.2 1.41-.59l7.78-7.78 2.81-2.81c.8-.78.8-2.07 0-2.86zM5.41 20L4 18.59l7.72-7.72 1.47 1.35L5.41 20z\"/>\n",
              "  </svg>\n",
              "      </button>\n",
              "      \n",
              "  <style>\n",
              "    .colab-df-container {\n",
              "      display:flex;\n",
              "      flex-wrap:wrap;\n",
              "      gap: 12px;\n",
              "    }\n",
              "\n",
              "    .colab-df-convert {\n",
              "      background-color: #E8F0FE;\n",
              "      border: none;\n",
              "      border-radius: 50%;\n",
              "      cursor: pointer;\n",
              "      display: none;\n",
              "      fill: #1967D2;\n",
              "      height: 32px;\n",
              "      padding: 0 0 0 0;\n",
              "      width: 32px;\n",
              "    }\n",
              "\n",
              "    .colab-df-convert:hover {\n",
              "      background-color: #E2EBFA;\n",
              "      box-shadow: 0px 1px 2px rgba(60, 64, 67, 0.3), 0px 1px 3px 1px rgba(60, 64, 67, 0.15);\n",
              "      fill: #174EA6;\n",
              "    }\n",
              "\n",
              "    [theme=dark] .colab-df-convert {\n",
              "      background-color: #3B4455;\n",
              "      fill: #D2E3FC;\n",
              "    }\n",
              "\n",
              "    [theme=dark] .colab-df-convert:hover {\n",
              "      background-color: #434B5C;\n",
              "      box-shadow: 0px 1px 3px 1px rgba(0, 0, 0, 0.15);\n",
              "      filter: drop-shadow(0px 1px 2px rgba(0, 0, 0, 0.3));\n",
              "      fill: #FFFFFF;\n",
              "    }\n",
              "  </style>\n",
              "\n",
              "      <script>\n",
              "        const buttonEl =\n",
              "          document.querySelector('#df-891e2ecf-f64e-4a76-bef2-d0d95f16fcc7 button.colab-df-convert');\n",
              "        buttonEl.style.display =\n",
              "          google.colab.kernel.accessAllowed ? 'block' : 'none';\n",
              "\n",
              "        async function convertToInteractive(key) {\n",
              "          const element = document.querySelector('#df-891e2ecf-f64e-4a76-bef2-d0d95f16fcc7');\n",
              "          const dataTable =\n",
              "            await google.colab.kernel.invokeFunction('convertToInteractive',\n",
              "                                                     [key], {});\n",
              "          if (!dataTable) return;\n",
              "\n",
              "          const docLinkHtml = 'Like what you see? Visit the ' +\n",
              "            '<a target=\"_blank\" href=https://colab.research.google.com/notebooks/data_table.ipynb>data table notebook</a>'\n",
              "            + ' to learn more about interactive tables.';\n",
              "          element.innerHTML = '';\n",
              "          dataTable['output_type'] = 'display_data';\n",
              "          await google.colab.output.renderOutput(dataTable, element);\n",
              "          const docLink = document.createElement('div');\n",
              "          docLink.innerHTML = docLinkHtml;\n",
              "          element.appendChild(docLink);\n",
              "        }\n",
              "      </script>\n",
              "    </div>\n",
              "  </div>\n",
              "  "
            ],
            "text/plain": [
              "      budget                                             genres  \\\n",
              "0  237000000  [{\"id\": 28, \"name\": \"Action\"}, {\"id\": 12, \"nam...   \n",
              "1  300000000  [{\"id\": 12, \"name\": \"Adventure\"}, {\"id\": 14, \"...   \n",
              "2  245000000  [{\"id\": 28, \"name\": \"Action\"}, {\"id\": 12, \"nam...   \n",
              "3  250000000  [{\"id\": 28, \"name\": \"Action\"}, {\"id\": 80, \"nam...   \n",
              "4  260000000  [{\"id\": 28, \"name\": \"Action\"}, {\"id\": 12, \"nam...   \n",
              "\n",
              "                                       homepage      id  \\\n",
              "0                   http://www.avatarmovie.com/   19995   \n",
              "1  http://disney.go.com/disneypictures/pirates/     285   \n",
              "2   http://www.sonypictures.com/movies/spectre/  206647   \n",
              "3            http://www.thedarkknightrises.com/   49026   \n",
              "4          http://movies.disney.com/john-carter   49529   \n",
              "\n",
              "                                            keywords original_language  \\\n",
              "0  [{\"id\": 1463, \"name\": \"culture clash\"}, {\"id\":...                en   \n",
              "1  [{\"id\": 270, \"name\": \"ocean\"}, {\"id\": 726, \"na...                en   \n",
              "2  [{\"id\": 470, \"name\": \"spy\"}, {\"id\": 818, \"name...                en   \n",
              "3  [{\"id\": 849, \"name\": \"dc comics\"}, {\"id\": 853,...                en   \n",
              "4  [{\"id\": 818, \"name\": \"based on novel\"}, {\"id\":...                en   \n",
              "\n",
              "                             original_title  \\\n",
              "0                                    Avatar   \n",
              "1  Pirates of the Caribbean: At World's End   \n",
              "2                                   Spectre   \n",
              "3                     The Dark Knight Rises   \n",
              "4                               John Carter   \n",
              "\n",
              "                                            overview  popularity  \\\n",
              "0  In the 22nd century, a paraplegic Marine is di...  150.437577   \n",
              "1  Captain Barbossa, long believed to be dead, ha...  139.082615   \n",
              "2  A cryptic message from Bond’s past sends him o...  107.376788   \n",
              "3  Following the death of District Attorney Harve...  112.312950   \n",
              "4  John Carter is a war-weary, former military ca...   43.926995   \n",
              "\n",
              "                                production_companies  \\\n",
              "0  [{\"name\": \"Ingenious Film Partners\", \"id\": 289...   \n",
              "1  [{\"name\": \"Walt Disney Pictures\", \"id\": 2}, {\"...   \n",
              "2  [{\"name\": \"Columbia Pictures\", \"id\": 5}, {\"nam...   \n",
              "3  [{\"name\": \"Legendary Pictures\", \"id\": 923}, {\"...   \n",
              "4        [{\"name\": \"Walt Disney Pictures\", \"id\": 2}]   \n",
              "\n",
              "                                production_countries release_date     revenue  \\\n",
              "0  [{\"iso_3166_1\": \"US\", \"name\": \"United States o...   2009-12-10  2787965087   \n",
              "1  [{\"iso_3166_1\": \"US\", \"name\": \"United States o...   2007-05-19   961000000   \n",
              "2  [{\"iso_3166_1\": \"GB\", \"name\": \"United Kingdom\"...   2015-10-26   880674609   \n",
              "3  [{\"iso_3166_1\": \"US\", \"name\": \"United States o...   2012-07-16  1084939099   \n",
              "4  [{\"iso_3166_1\": \"US\", \"name\": \"United States o...   2012-03-07   284139100   \n",
              "\n",
              "   runtime                                   spoken_languages    status  \\\n",
              "0    162.0  [{\"iso_639_1\": \"en\", \"name\": \"English\"}, {\"iso...  Released   \n",
              "1    169.0           [{\"iso_639_1\": \"en\", \"name\": \"English\"}]  Released   \n",
              "2    148.0  [{\"iso_639_1\": \"fr\", \"name\": \"Fran\\u00e7ais\"},...  Released   \n",
              "3    165.0           [{\"iso_639_1\": \"en\", \"name\": \"English\"}]  Released   \n",
              "4    132.0           [{\"iso_639_1\": \"en\", \"name\": \"English\"}]  Released   \n",
              "\n",
              "                                          tagline  \\\n",
              "0                     Enter the World of Pandora.   \n",
              "1  At the end of the world, the adventure begins.   \n",
              "2                           A Plan No One Escapes   \n",
              "3                                 The Legend Ends   \n",
              "4            Lost in our world, found in another.   \n",
              "\n",
              "                                      title  vote_average  vote_count  \n",
              "0                                    Avatar           7.2       11800  \n",
              "1  Pirates of the Caribbean: At World's End           6.9        4500  \n",
              "2                                   Spectre           6.3        4466  \n",
              "3                     The Dark Knight Rises           7.6        9106  \n",
              "4                               John Carter           6.1        2124  "
            ]
          },
          "execution_count": 3,
          "metadata": {},
          "output_type": "execute_result"
        }
      ],
      "source": [
        "import pandas as pd\n",
        "import numpy as np\n",
        "import matplotlib.pyplot as plt\n",
        "from os.path import join\n",
        "\n",
        "\n",
        "fname = \"tmdb_5000_movies.csv\"\n",
        "df = pd.read_csv(join(path_prefix, fname))\n",
        "print(df.shape)\n",
        "df.head()"
      ]
    },
    {
      "cell_type": "markdown",
      "metadata": {
        "id": "XhVmWVAtevC0"
      },
      "source": [
        "  Very first thing we have to do to start working on oour dataset to see are there any missing NA data. After we implemented pandas it is too easy to see the distributions of NA values in our dataset. Consequently we saw that even if there are many NA values in dataset, those NA values are not significantly effects our dataset except one missing data in release_date column. We are going to dropp that row which has missing data in releas_date column. Hence we will mainly work on “budget”, ”genres”, ”popularity”,\"year\" and  ”revenue” columns there is no need to drop those NA values in our data exploration part of the project."
      ]
    },
    {
      "cell_type": "code",
      "execution_count": null,
      "metadata": {
        "colab": {
          "base_uri": "https://localhost:8080/"
        },
        "id": "_YkzDmuYrhLV",
        "outputId": "eea1bdb2-5a42-43ef-fb20-31fe97e52c10",
        "vscode": {
          "languageId": "python"
        }
      },
      "outputs": [
        {
          "name": "stdout",
          "output_type": "stream",
          "text": [
            "budget                     0\n",
            "genres                     0\n",
            "homepage                3091\n",
            "id                         0\n",
            "keywords                   0\n",
            "original_language          0\n",
            "original_title             0\n",
            "overview                   3\n",
            "popularity                 0\n",
            "production_companies       0\n",
            "production_countries       0\n",
            "release_date               1\n",
            "revenue                    0\n",
            "runtime                    2\n",
            "spoken_languages           0\n",
            "status                     0\n",
            "tagline                  844\n",
            "title                      0\n",
            "vote_average               0\n",
            "vote_count                 0\n",
            "dtype: int64\n",
            "Missing values in release_date column:  0\n"
          ]
        }
      ],
      "source": [
        "print(df.isna().sum())\n",
        "\n",
        "df.dropna(subset=[\"release_date\"], inplace = True)\n",
        "df = df.reset_index(drop=True)\n",
        "print(\"Missing values in release_date column: \",df.release_date.isna().sum())\n"
      ]
    },
    {
      "cell_type": "markdown",
      "metadata": {
        "id": "5kdbZ6-zyFoe"
      },
      "source": [
        "By using df.describe method we are able to see many feature of our columns. For the start of our exploration, it is a good way to know our dataset’s values. By this way we figured out that there are 0 values in some of the features. Even if df.describe method can give us a brief information we should use more methods to understand and evaluate our dataset."
      ]
    },
    {
      "cell_type": "code",
      "execution_count": null,
      "metadata": {
        "colab": {
          "base_uri": "https://localhost:8080/",
          "height": 344
        },
        "id": "qZPfU0WeJdGL",
        "outputId": "c8f51dbc-b257-4933-c752-0b4720ad740f",
        "vscode": {
          "languageId": "python"
        }
      },
      "outputs": [
        {
          "data": {
            "text/html": [
              "\n",
              "  <div id=\"df-8cf9ad99-e406-4a36-9858-8f390cea3f06\">\n",
              "    <div class=\"colab-df-container\">\n",
              "      <div>\n",
              "<style scoped>\n",
              "    .dataframe tbody tr th:only-of-type {\n",
              "        vertical-align: middle;\n",
              "    }\n",
              "\n",
              "    .dataframe tbody tr th {\n",
              "        vertical-align: top;\n",
              "    }\n",
              "\n",
              "    .dataframe thead th {\n",
              "        text-align: right;\n",
              "    }\n",
              "</style>\n",
              "<table border=\"1\" class=\"dataframe\">\n",
              "  <thead>\n",
              "    <tr style=\"text-align: right;\">\n",
              "      <th></th>\n",
              "      <th>budget</th>\n",
              "      <th>id</th>\n",
              "      <th>popularity</th>\n",
              "      <th>revenue</th>\n",
              "      <th>runtime</th>\n",
              "      <th>vote_average</th>\n",
              "      <th>vote_count</th>\n",
              "    </tr>\n",
              "  </thead>\n",
              "  <tbody>\n",
              "    <tr>\n",
              "      <th>count</th>\n",
              "      <td>4.802000e+03</td>\n",
              "      <td>4802.000000</td>\n",
              "      <td>4802.000000</td>\n",
              "      <td>4.802000e+03</td>\n",
              "      <td>4800.000000</td>\n",
              "      <td>4802.000000</td>\n",
              "      <td>4802.000000</td>\n",
              "    </tr>\n",
              "    <tr>\n",
              "      <th>mean</th>\n",
              "      <td>2.905109e+07</td>\n",
              "      <td>57098.234902</td>\n",
              "      <td>21.496776</td>\n",
              "      <td>8.227777e+07</td>\n",
              "      <td>106.898125</td>\n",
              "      <td>6.093440</td>\n",
              "      <td>690.361724</td>\n",
              "    </tr>\n",
              "    <tr>\n",
              "      <th>std</th>\n",
              "      <td>4.072447e+07</td>\n",
              "      <td>88581.302370</td>\n",
              "      <td>31.818451</td>\n",
              "      <td>1.628697e+08</td>\n",
              "      <td>22.561593</td>\n",
              "      <td>1.191496</td>\n",
              "      <td>1234.674268</td>\n",
              "    </tr>\n",
              "    <tr>\n",
              "      <th>min</th>\n",
              "      <td>0.000000e+00</td>\n",
              "      <td>5.000000</td>\n",
              "      <td>0.000372</td>\n",
              "      <td>0.000000e+00</td>\n",
              "      <td>0.000000</td>\n",
              "      <td>0.000000</td>\n",
              "      <td>0.000000</td>\n",
              "    </tr>\n",
              "    <tr>\n",
              "      <th>25%</th>\n",
              "      <td>8.000000e+05</td>\n",
              "      <td>9013.750000</td>\n",
              "      <td>4.671734</td>\n",
              "      <td>0.000000e+00</td>\n",
              "      <td>94.000000</td>\n",
              "      <td>5.600000</td>\n",
              "      <td>54.000000</td>\n",
              "    </tr>\n",
              "    <tr>\n",
              "      <th>50%</th>\n",
              "      <td>1.500000e+07</td>\n",
              "      <td>14626.500000</td>\n",
              "      <td>12.924931</td>\n",
              "      <td>1.917498e+07</td>\n",
              "      <td>103.000000</td>\n",
              "      <td>6.200000</td>\n",
              "      <td>235.500000</td>\n",
              "    </tr>\n",
              "    <tr>\n",
              "      <th>75%</th>\n",
              "      <td>4.000000e+07</td>\n",
              "      <td>58589.750000</td>\n",
              "      <td>28.332017</td>\n",
              "      <td>9.291920e+07</td>\n",
              "      <td>118.000000</td>\n",
              "      <td>6.800000</td>\n",
              "      <td>737.000000</td>\n",
              "    </tr>\n",
              "    <tr>\n",
              "      <th>max</th>\n",
              "      <td>3.800000e+08</td>\n",
              "      <td>459488.000000</td>\n",
              "      <td>875.581305</td>\n",
              "      <td>2.787965e+09</td>\n",
              "      <td>338.000000</td>\n",
              "      <td>10.000000</td>\n",
              "      <td>13752.000000</td>\n",
              "    </tr>\n",
              "  </tbody>\n",
              "</table>\n",
              "</div>\n",
              "      <button class=\"colab-df-convert\" onclick=\"convertToInteractive('df-8cf9ad99-e406-4a36-9858-8f390cea3f06')\"\n",
              "              title=\"Convert this dataframe to an interactive table.\"\n",
              "              style=\"display:none;\">\n",
              "        \n",
              "  <svg xmlns=\"http://www.w3.org/2000/svg\" height=\"24px\"viewBox=\"0 0 24 24\"\n",
              "       width=\"24px\">\n",
              "    <path d=\"M0 0h24v24H0V0z\" fill=\"none\"/>\n",
              "    <path d=\"M18.56 5.44l.94 2.06.94-2.06 2.06-.94-2.06-.94-.94-2.06-.94 2.06-2.06.94zm-11 1L8.5 8.5l.94-2.06 2.06-.94-2.06-.94L8.5 2.5l-.94 2.06-2.06.94zm10 10l.94 2.06.94-2.06 2.06-.94-2.06-.94-.94-2.06-.94 2.06-2.06.94z\"/><path d=\"M17.41 7.96l-1.37-1.37c-.4-.4-.92-.59-1.43-.59-.52 0-1.04.2-1.43.59L10.3 9.45l-7.72 7.72c-.78.78-.78 2.05 0 2.83L4 21.41c.39.39.9.59 1.41.59.51 0 1.02-.2 1.41-.59l7.78-7.78 2.81-2.81c.8-.78.8-2.07 0-2.86zM5.41 20L4 18.59l7.72-7.72 1.47 1.35L5.41 20z\"/>\n",
              "  </svg>\n",
              "      </button>\n",
              "      \n",
              "  <style>\n",
              "    .colab-df-container {\n",
              "      display:flex;\n",
              "      flex-wrap:wrap;\n",
              "      gap: 12px;\n",
              "    }\n",
              "\n",
              "    .colab-df-convert {\n",
              "      background-color: #E8F0FE;\n",
              "      border: none;\n",
              "      border-radius: 50%;\n",
              "      cursor: pointer;\n",
              "      display: none;\n",
              "      fill: #1967D2;\n",
              "      height: 32px;\n",
              "      padding: 0 0 0 0;\n",
              "      width: 32px;\n",
              "    }\n",
              "\n",
              "    .colab-df-convert:hover {\n",
              "      background-color: #E2EBFA;\n",
              "      box-shadow: 0px 1px 2px rgba(60, 64, 67, 0.3), 0px 1px 3px 1px rgba(60, 64, 67, 0.15);\n",
              "      fill: #174EA6;\n",
              "    }\n",
              "\n",
              "    [theme=dark] .colab-df-convert {\n",
              "      background-color: #3B4455;\n",
              "      fill: #D2E3FC;\n",
              "    }\n",
              "\n",
              "    [theme=dark] .colab-df-convert:hover {\n",
              "      background-color: #434B5C;\n",
              "      box-shadow: 0px 1px 3px 1px rgba(0, 0, 0, 0.15);\n",
              "      filter: drop-shadow(0px 1px 2px rgba(0, 0, 0, 0.3));\n",
              "      fill: #FFFFFF;\n",
              "    }\n",
              "  </style>\n",
              "\n",
              "      <script>\n",
              "        const buttonEl =\n",
              "          document.querySelector('#df-8cf9ad99-e406-4a36-9858-8f390cea3f06 button.colab-df-convert');\n",
              "        buttonEl.style.display =\n",
              "          google.colab.kernel.accessAllowed ? 'block' : 'none';\n",
              "\n",
              "        async function convertToInteractive(key) {\n",
              "          const element = document.querySelector('#df-8cf9ad99-e406-4a36-9858-8f390cea3f06');\n",
              "          const dataTable =\n",
              "            await google.colab.kernel.invokeFunction('convertToInteractive',\n",
              "                                                     [key], {});\n",
              "          if (!dataTable) return;\n",
              "\n",
              "          const docLinkHtml = 'Like what you see? Visit the ' +\n",
              "            '<a target=\"_blank\" href=https://colab.research.google.com/notebooks/data_table.ipynb>data table notebook</a>'\n",
              "            + ' to learn more about interactive tables.';\n",
              "          element.innerHTML = '';\n",
              "          dataTable['output_type'] = 'display_data';\n",
              "          await google.colab.output.renderOutput(dataTable, element);\n",
              "          const docLink = document.createElement('div');\n",
              "          docLink.innerHTML = docLinkHtml;\n",
              "          element.appendChild(docLink);\n",
              "        }\n",
              "      </script>\n",
              "    </div>\n",
              "  </div>\n",
              "  "
            ],
            "text/plain": [
              "             budget             id   popularity       revenue      runtime  \\\n",
              "count  4.802000e+03    4802.000000  4802.000000  4.802000e+03  4800.000000   \n",
              "mean   2.905109e+07   57098.234902    21.496776  8.227777e+07   106.898125   \n",
              "std    4.072447e+07   88581.302370    31.818451  1.628697e+08    22.561593   \n",
              "min    0.000000e+00       5.000000     0.000372  0.000000e+00     0.000000   \n",
              "25%    8.000000e+05    9013.750000     4.671734  0.000000e+00    94.000000   \n",
              "50%    1.500000e+07   14626.500000    12.924931  1.917498e+07   103.000000   \n",
              "75%    4.000000e+07   58589.750000    28.332017  9.291920e+07   118.000000   \n",
              "max    3.800000e+08  459488.000000   875.581305  2.787965e+09   338.000000   \n",
              "\n",
              "       vote_average    vote_count  \n",
              "count   4802.000000   4802.000000  \n",
              "mean       6.093440    690.361724  \n",
              "std        1.191496   1234.674268  \n",
              "min        0.000000      0.000000  \n",
              "25%        5.600000     54.000000  \n",
              "50%        6.200000    235.500000  \n",
              "75%        6.800000    737.000000  \n",
              "max       10.000000  13752.000000  "
            ]
          },
          "execution_count": 5,
          "metadata": {},
          "output_type": "execute_result"
        }
      ],
      "source": [
        "df.describe()"
      ]
    },
    {
      "cell_type": "markdown",
      "metadata": {
        "id": "WmxBsucdyLe0"
      },
      "source": [
        "One thing that we have concerned about our dataset was the 0 values in budget and revenue columns because both of those data are essential for our machine learning model. By the help of our code, we found out that there are 889 row which has 0 in both budget and revenue column. \n",
        "\n",
        "Now we must decide that how should we handle with those values. Firstly, we have tried to find a better version of that dataset which have updated. As we searched in Kaggle there are no version which those data are filled right. One other choice was to drop all those values, but this way would cause a huge data lose in our dataset. So, we have decided to fill those values by the median of dataset.\n"
      ]
    },
    {
      "cell_type": "code",
      "execution_count": null,
      "metadata": {
        "colab": {
          "base_uri": "https://localhost:8080/"
        },
        "id": "NuwnlbVhlSWm",
        "outputId": "22c49520-90f6-4f12-d08c-e5cb1ad1f085",
        "vscode": {
          "languageId": "python"
        }
      },
      "outputs": [
        {
          "data": {
            "text/plain": [
              "889"
            ]
          },
          "execution_count": 6,
          "metadata": {},
          "output_type": "execute_result"
        }
      ],
      "source": [
        "count = 0\n",
        "for index,row in df.iterrows():\n",
        "    if (row.budget == 0 and row.revenue == 0):\n",
        "      count += 1\n",
        "\n",
        "count"
      ]
    },
    {
      "cell_type": "markdown",
      "metadata": {
        "id": "PxDwviKWyc8C"
      },
      "source": [
        "First thing that we had to do was to create a copy of our dataset. The reason of this to find median of the dataset right. Hence those 0 values are not NA values, it would corrupt the median value because of they would be included to median calculation. In copy dataset df_0, after we dropped 0 values, we have found true median value of revenue and budget which does not include 0. "
      ]
    },
    {
      "cell_type": "code",
      "execution_count": null,
      "metadata": {
        "colab": {
          "base_uri": "https://localhost:8080/"
        },
        "id": "ExpZhneGjnmx",
        "outputId": "ed5e77c1-58bc-4d00-b2dd-9526a8db2991",
        "vscode": {
          "languageId": "python"
        }
      },
      "outputs": [
        {
          "name": "stdout",
          "output_type": "stream",
          "text": [
            "20000000.0\n",
            "36642838.0\n"
          ]
        }
      ],
      "source": [
        "df_0 = df.copy()\n",
        "\n",
        "for index,row in df_0.iterrows():\n",
        "    if (row.budget == 0 and row.revenue == 0):\n",
        "      df_0.drop(index, inplace=True)\n",
        "\n",
        "df_0.shape\n",
        "print(df_0.budget.median())\n",
        "print(df_0.revenue.median())"
      ]
    },
    {
      "cell_type": "markdown",
      "metadata": {
        "id": "3AUlEqoYzLB0"
      },
      "source": [
        "After we replaced 0 values with median of pure data, we can see that there are no 0 values."
      ]
    },
    {
      "cell_type": "code",
      "execution_count": null,
      "metadata": {
        "colab": {
          "base_uri": "https://localhost:8080/"
        },
        "id": "2LOpI4cFpLHq",
        "outputId": "4ad62150-98ad-49cd-b451-f965bd78461b",
        "vscode": {
          "languageId": "python"
        }
      },
      "outputs": [
        {
          "data": {
            "text/plain": [
              "0"
            ]
          },
          "execution_count": 8,
          "metadata": {},
          "output_type": "execute_result"
        }
      ],
      "source": [
        "df.budget.replace(0,df_0.budget.median(),inplace=True)\n",
        "df.revenue.replace(0,df_0.revenue.median(),inplace=True)\n",
        "\n",
        "count = 0\n",
        "for index,row in df.iterrows():\n",
        "    if (row.budget == 0 and row.revenue == 0):\n",
        "      count += 1\n",
        "\n",
        "count"
      ]
    },
    {
      "cell_type": "markdown",
      "metadata": {
        "id": "W_UzarWr42eJ"
      },
      "source": [
        "Before we start to explore our data we need to add a new column to see released year of the movie and profits of the movies. It show us the relation between budget of a movie and its revenue.\n",
        "\n",
        "Hence our dataset has a wide variaty of release years, it is a good way to see mean profit and mean popularity of each year in a line chart for each year. Also we can relate that chart by the historical events. For example the popularity has one of the lowest period between 1929 and 1933, if you consider that also The Great Depression was in that time period it makes sense that why the popularity was so low. We can see the effects of the economic crisis clearly. So this chart can provide us so many knowledge about this dataset.\n"
      ]
    },
    {
      "cell_type": "code",
      "execution_count": null,
      "metadata": {
        "colab": {
          "base_uri": "https://localhost:8080/",
          "height": 432
        },
        "id": "QZ5t-tu8WIDl",
        "outputId": "c3a384c6-1a34-4b54-a669-88af30389ea7",
        "vscode": {
          "languageId": "python"
        }
      },
      "outputs": [
        {
          "data": {
            "image/png": "[encoded data removed]",
            "text/plain": [
              "<Figure size 432x288 with 1 Axes>"
            ]
          },
          "metadata": {
            "needs_background": "light"
          },
          "output_type": "display_data"
        },
        {
          "data": {
            "image/png": "[encoded data removed]",
            "text/plain": [
              "<Figure size 3600x648 with 1 Axes>"
            ]
          },
          "metadata": {
            "needs_background": "light"
          },
          "output_type": "display_data"
        }
      ],
      "source": [
        "year = []\n",
        "\n",
        "for index,row in df.iterrows():\n",
        "    year.append(row.release_date[0:4])\n",
        "\n",
        "df[\"year\"] = year\n",
        "df[\"profit\"] = df[\"revenue\"] - df[\"budget\"]\n",
        "\n",
        "df[\"year\"] = df.year.astype(int)\n",
        "\n",
        "df.year.head()\n",
        "df.groupby(\"year\").profit.mean()\n",
        "\n",
        "year_set = set(year) \n",
        "unique_year = (list(year_set))\n",
        "unique_year.sort()\n",
        "\n",
        "x = unique_year\n",
        "y = df.groupby(\"year\").profit.mean()\n",
        "\n",
        "plt.plot(x,y)\n",
        "plt.rcParams[\"figure.figsize\"] = [50,9]\n",
        "plt.title(\"Mean Profit by Year\")\n",
        "plt.show()\n",
        "\n",
        "x = unique_year\n",
        "y = df.groupby(\"year\").popularity.mean()\n",
        "\n",
        "plt.plot(x,y)\n",
        "plt.rcParams[\"figure.figsize\"] = [50,9]\n",
        "plt.title(\"Mean Popularity by Year\")\n",
        "plt.show()"
      ]
    },
    {
      "cell_type": "markdown",
      "metadata": {
        "id": "OEcnwnO3e12G"
      },
      "source": [
        "  Hence we are usully work on the mathematical values in our dataset it is important to see their corellation by heatmap. It is also is a great way to test our predictios about the corellations about our columns in dataset. Most of the result are as we expected. For example budget and reveneu has a strong correlation.\n",
        "\n"
      ]
    },
    {
      "cell_type": "code",
      "execution_count": null,
      "metadata": {
        "colab": {
          "base_uri": "https://localhost:8080/",
          "height": 599
        },
        "id": "MncU0CItlU9C",
        "outputId": "ac121cfa-9e3d-49a2-c404-9e74f1beef06",
        "vscode": {
          "languageId": "python"
        }
      },
      "outputs": [
        {
          "data": {
            "image/png": "[encoded data removed]",
            "text/plain": [
              "<Figure size 3600x648 with 2 Axes>"
            ]
          },
          "metadata": {
            "needs_background": "light"
          },
          "output_type": "display_data"
        }
      ],
      "source": [
        "corrs = df.corr()\n",
        "\n",
        "plt.imshow(corrs, cmap=\"GnBu\", vmin = -1, vmax = 1)\n",
        "plt.rcParams[\"figure.figsize\"] = [6,6]\n",
        "plt.colorbar()\n",
        "plt.xticks(range(len(corrs)),corrs.columns, rotation=75)\n",
        "plt.yticks(range(len(corrs)),corrs.index)\n",
        "plt.show()"
      ]
    },
    {
      "cell_type": "markdown",
      "metadata": {
        "id": "xhEGcaK892Qu"
      },
      "source": [
        "To evaluate vote_average and vote_count features, scatter plot is a great way to understand relation of those features. By this way we can see the distribution of each movies average and count according to vote. As you can see in the scatter plot, most of the movies clustered between 5 to 8 vote average and 0 to 2500 vote count. After we saw some outlier values higher than 9 point average and nearly 0 vote count we should dig those data up."
      ]
    },
    {
      "cell_type": "code",
      "execution_count": null,
      "metadata": {
        "colab": {
          "base_uri": "https://localhost:8080/",
          "height": 388
        },
        "id": "JFzIkpqKtQkv",
        "outputId": "873f0261-695b-4413-ba73-5044bf335e14",
        "vscode": {
          "languageId": "python"
        }
      },
      "outputs": [
        {
          "data": {
            "image/png": "[encoded data removed]",
            "text/plain": [
              "<Figure size 432x432 with 1 Axes>"
            ]
          },
          "metadata": {
            "needs_background": "light"
          },
          "output_type": "display_data"
        }
      ],
      "source": [
        "y = df[\"vote_count\"]\n",
        "x = df[\"vote_average\"]\n",
        "\n",
        "plt.scatter(x,y,alpha = 0.5)\n",
        "plt.ylabel(\"vote_count\")\n",
        "plt.xlabel(\"vote_average\")\n",
        "plt.show()"
      ]
    },
    {
      "cell_type": "markdown",
      "metadata": {
        "id": "BlJMOwV-AlOx"
      },
      "source": [
        "After a little research about those outlier values, we found out there are 6 movies which are over 9 point and there is one movie which has 10-point average and all of them has voted under 2 times. By a little research on IMDB which our dataset has originated, all those movies over 9 point did not has those points in IMDB. Also, there are 64 movies which has never voted. I will explain how to deal with those incorrect values in next parts of our project. "
      ]
    },
    {
      "cell_type": "code",
      "execution_count": null,
      "metadata": {
        "colab": {
          "base_uri": "https://localhost:8080/"
        },
        "id": "Rh7qegS_uuGx",
        "outputId": "2f02f6e0-750f-49d5-8d1f-3e090e832b94",
        "vscode": {
          "languageId": "python"
        }
      },
      "outputs": [
        {
          "name": "stdout",
          "output_type": "stream",
          "text": [
            "One Man's Hero 2\n",
            "Stiff Upper Lips 1\n",
            "Sardaarji 2\n",
            "Dancer, Texas Pop. 81 1\n",
            "Me You and Five Bucks 2\n",
            "Little Big Top 1\n",
            "6\n",
            "62\n"
          ]
        }
      ],
      "source": [
        "max_count = 0\n",
        "min_count= 0\n",
        "\n",
        "for index,row in df.iterrows():\n",
        "    if (row.vote_average >= 9 ):\n",
        "      print(row.title,row.vote_count)\n",
        "      max_count += 1\n",
        "print(max_count)      \n",
        "\n",
        "for index,row in df.iterrows():\n",
        "    if (row.vote_average == 0 ):\n",
        "      min_count += 1\n",
        "print(min_count)"
      ]
    },
    {
      "cell_type": "markdown",
      "metadata": {
        "id": "TTuYNTjFCCia"
      },
      "source": [
        "The results we have faced in previous part pushed me to discover the distribution of vote counts. After a histogram chart that, there are so many movies which has voted under 2000 time approximately. This huge difference between vote counts causes a problem to trust in our dataset. In the next part I will explain how to deal with that problem. "
      ]
    },
    {
      "cell_type": "code",
      "execution_count": null,
      "metadata": {
        "colab": {
          "base_uri": "https://localhost:8080/",
          "height": 374
        },
        "id": "4eF9DRtCt7aa",
        "outputId": "a2f6798a-70a8-45fc-b224-21747d3c0036",
        "vscode": {
          "languageId": "python"
        }
      },
      "outputs": [
        {
          "data": {
            "image/png": "[encoded data removed]",
            "text/plain": [
              "<Figure size 432x432 with 1 Axes>"
            ]
          },
          "metadata": {
            "needs_background": "light"
          },
          "output_type": "display_data"
        }
      ],
      "source": [
        "  df.vote_count.hist(bins = 50)\n",
        "  plt.show()"
      ]
    },
    {
      "cell_type": "markdown",
      "metadata": {
        "id": "Zq7qTFN7FCNy"
      },
      "source": [
        "Hence our dataset is originated from IMDB lists, after the time that this dataset has formed many data may have changed. So, even if we can change outliers we have faced, there may be a lot of data which has to be change. Hence there are around 5000 data, we can not be sure the correctness of all data. \n",
        "\n",
        "The solution we have found about this situation is to find total vote points of each movie. By multiplying vote count and vote average we can see the total vote score. Even if a movie had maximum point by one vote as in “Dancer, Texas Pop. 81” case, other movies which have voted more than that movie can get higher score.\n",
        "\n",
        "After we formed a new sum_vote column, we printed a bar chart to see 10 movies got highest scores. The results we observed has satisfied us because of the movies that we saw as our results. All those movies in chart has high vote average in IMDB lists. We believed that we have found a solution better than losing many data row while we are trying to eliminate outlier rows.\n"
      ]
    },
    {
      "cell_type": "code",
      "execution_count": null,
      "metadata": {
        "colab": {
          "base_uri": "https://localhost:8080/",
          "height": 374
        },
        "id": "W1D_CTVQdKPI",
        "outputId": "fc732dba-4253-486f-da0d-653b3a724871",
        "vscode": {
          "languageId": "python"
        }
      },
      "outputs": [
        {
          "data": {
            "image/png": "[encoded data removed]",
            "text/plain": [
              "<Figure size 432x432 with 1 Axes>"
            ]
          },
          "metadata": {
            "needs_background": "light"
          },
          "output_type": "display_data"
        }
      ],
      "source": [
        "df[\"sum_vote\"] = df[\"vote_count\"] * df[\"vote_average\"]\n",
        "\n",
        "Voted = pd.DataFrame([df.title,df.sum_vote]).transpose()\n",
        "Voted[\"sum_vote\"] = Voted.sum_vote.astype(int)\n",
        "Voted = Voted.nlargest(10,\"sum_vote\")\n",
        "\n",
        "plt.barh(Voted.title,Voted.sum_vote)\n",
        "plt.grid()\n",
        "plt.show()"
      ]
    },
    {
      "cell_type": "markdown",
      "metadata": {
        "id": "e9fvPtOcFyIs"
      },
      "source": [
        "This parts is to show see the highest 10 movies in different features which is budget, revenue, profit and popularity."
      ]
    },
    {
      "cell_type": "code",
      "execution_count": null,
      "metadata": {
        "colab": {
          "base_uri": "https://localhost:8080/",
          "height": 757
        },
        "id": "1jSLZwRmEsG3",
        "outputId": "1120c26c-8445-4f48-8c24-1570ef072958",
        "vscode": {
          "languageId": "python"
        }
      },
      "outputs": [
        {
          "data": {
            "image/png": "[encoded data removed]",
            "text/plain": [
              "<Figure size 432x432 with 1 Axes>"
            ]
          },
          "metadata": {
            "needs_background": "light"
          },
          "output_type": "display_data"
        },
        {
          "data": {
            "image/png": "[encoded data removed]",
            "text/plain": [
              "<Figure size 432x432 with 1 Axes>"
            ]
          },
          "metadata": {
            "needs_background": "light"
          },
          "output_type": "display_data"
        }
      ],
      "source": [
        "Budget = pd.DataFrame([df.title,df.budget]).transpose()\n",
        "Budget[\"budget\"] = Budget.budget.astype(int)\n",
        "Budget = Budget.nlargest(10,\"budget\")\n",
        "\n",
        "plt.barh(Budget.title,Budget.budget)\n",
        "plt.grid()\n",
        "plt.show()\n",
        "\n",
        "\n",
        "Revenue = pd.DataFrame([df.title,df.revenue]).transpose()\n",
        "Revenue[\"revenue\"] = Revenue.revenue.astype(int)\n",
        "Revenue = Revenue.nlargest(10,\"revenue\")\n",
        "\n",
        "plt.barh(Revenue.title,Revenue.revenue)\n",
        "plt.grid()\n",
        "plt.show()"
      ]
    },
    {
      "cell_type": "code",
      "execution_count": null,
      "metadata": {
        "colab": {
          "base_uri": "https://localhost:8080/",
          "height": 744
        },
        "id": "CtIZNIDL7ejV",
        "outputId": "5e4175df-1785-4451-fb8c-5206b24ba6c8",
        "vscode": {
          "languageId": "python"
        }
      },
      "outputs": [
        {
          "data": {
            "image/png": "[encoded data removed]",
            "text/plain": [
              "<Figure size 432x432 with 1 Axes>"
            ]
          },
          "metadata": {
            "needs_background": "light"
          },
          "output_type": "display_data"
        },
        {
          "data": {
            "image/png": "[encoded data removed]",
            "text/plain": [
              "<Figure size 432x432 with 1 Axes>"
            ]
          },
          "metadata": {
            "needs_background": "light"
          },
          "output_type": "display_data"
        }
      ],
      "source": [
        "top_grossing = pd.DataFrame([df.title,df.profit]).transpose()\n",
        "top_grossing[\"profit\"] = top_grossing.profit.astype(int)\n",
        "top_grossing = top_grossing.nlargest(10,\"profit\")\n",
        "\n",
        "plt.barh(top_grossing.title,top_grossing.profit)\n",
        "plt.grid()\n",
        "plt.show()\n",
        "\n",
        "\n",
        "Popular = pd.DataFrame([df.title,df.popularity]).transpose()\n",
        "Popular[\"popularity\"] = Popular.popularity.astype(int)\n",
        "Popular = Popular.nlargest(10,\"popularity\")\n",
        "\n",
        "plt.barh(Popular.title,Popular.popularity)\n",
        "plt.grid()\n",
        "plt.show()"
      ]
    },
    {
      "cell_type": "markdown",
      "metadata": {
        "id": "VNQ1aAiUe6UB"
      },
      "source": [
        "  One other important part of our project to determine genres of the movies. It is a difficult part to code hence even if genre column looks like a dictionary it is written as a string. So the very frst thing to convert this string into dictionary. After we converted those data into dictionaries we determined how many unique genre are there. There are 20 different movie genres."
      ]
    },
    {
      "cell_type": "code",
      "execution_count": null,
      "metadata": {
        "colab": {
          "base_uri": "https://localhost:8080/"
        },
        "id": "VzI7AN9whJMi",
        "outputId": "d89d1f9b-5a60-4596-eade-e016f3ae8852",
        "vscode": {
          "languageId": "python"
        }
      },
      "outputs": [
        {
          "data": {
            "text/plain": [
              "['Science Fiction',\n",
              " 'Crime',\n",
              " 'Foreign',\n",
              " 'TV Movie',\n",
              " 'Western',\n",
              " 'Documentary',\n",
              " 'Action',\n",
              " 'War',\n",
              " 'Mystery',\n",
              " 'Drama',\n",
              " 'Romance',\n",
              " 'History',\n",
              " 'Fantasy',\n",
              " 'Family',\n",
              " 'Thriller',\n",
              " 'Music',\n",
              " 'Horror',\n",
              " 'Animation',\n",
              " 'Comedy',\n",
              " 'Adventure']"
            ]
          },
          "execution_count": 17,
          "metadata": {},
          "output_type": "execute_result"
        }
      ],
      "source": [
        "import ast\n",
        "\n",
        "genres = []\n",
        "\n",
        "for i in range (len(df[\"genres\"])):\n",
        "  x = ast.literal_eval(df[\"genres\"][i])\n",
        "  for j in range (len(x)):\n",
        "    y = x[j][\"name\"]\n",
        "    genres.append(y)\n",
        "genres_set = set(genres) \n",
        "unique_genres = (list(genres_set))\n",
        "unique_genres\n"
      ]
    },
    {
      "cell_type": "markdown",
      "metadata": {
        "id": "LXFQnS_CfE_I"
      },
      "source": [
        "There are several more analysis which we are planning to do to help us to gain more knowledge about our dataset. Hence the main aim of our problem to understand how much popularity a movie needs to have profit from that movie. To have more knowledge about this dataset we are planning to analyze and print some charts to help us."
      ]
    },
    {
      "cell_type": "markdown",
      "metadata": {
        "id": "dOtB0xM2fHrg"
      },
      "source": [
        "One of those analyze is to see genres which produces most profit. By this way we can easily observe that the most profitable genres and we can evaluate a movies profit according to movies in same genre. After we calculated the mean profit of all unique genres we can use barh plot to see the difference between those genres."
      ]
    },
    {
      "cell_type": "code",
      "execution_count": null,
      "metadata": {
        "colab": {
          "base_uri": "https://localhost:8080/",
          "height": 387
        },
        "id": "sgY2xw1XhKpU",
        "outputId": "c8db6536-7d1c-4c73-fd7c-144296cdcf5f",
        "vscode": {
          "languageId": "python"
        }
      },
      "outputs": [
        {
          "data": {
            "image/png": "[encoded data removed]",
            "text/plain": [
              "<Figure size 432x432 with 1 Axes>"
            ]
          },
          "metadata": {
            "needs_background": "light"
          },
          "output_type": "display_data"
        }
      ],
      "source": [
        "list_profit = []\n",
        "\n",
        "for element in unique_genres:\n",
        "  sumOf = 0\n",
        "  howMany = 0\n",
        "  for index,row in df.iterrows():\n",
        "        if (row.genres.find(element) != -1):\n",
        "                sumOf+=row.profit\n",
        "                howMany+=1\n",
        "                avg = sumOf/howMany\n",
        "\n",
        "  list_profit.append([element,avg])\n",
        "  \n",
        "profitdf = pd.DataFrame(list_profit, columns = [\"Genres\",\"Profit\"])\n",
        "\n",
        "x = profitdf[\"Genres\"]\n",
        "y = profitdf[\"Profit\"]\n",
        "\n",
        "plt.barh(x,y)\n",
        "plt.show()"
      ]
    },
    {
      "cell_type": "markdown",
      "metadata": {
        "id": "saBbUQyEfNDh"
      },
      "source": [
        "After we evaluated profit relationship, It is time to see compare popularities of genres. By using same algorithm we used in profit-genre relationship we can find out relationship of popularity-genre relation .By the results we see, we can can compare mean popularity and mean profit of genres. For example as can be seen in graphics even if genres as Comedy, War, Western genres does not has many profit as Action movies, they are more close to Action movies in popularity part."
      ]
    },
    {
      "cell_type": "code",
      "execution_count": null,
      "metadata": {
        "colab": {
          "base_uri": "https://localhost:8080/",
          "height": 374
        },
        "id": "f7PDxYmrKPPy",
        "outputId": "d0572275-62b0-48ee-e7ad-506a3b4c6d95",
        "vscode": {
          "languageId": "python"
        }
      },
      "outputs": [
        {
          "data": {
            "image/png": "[encoded data removed]",
            "text/plain": [
              "<Figure size 432x432 with 1 Axes>"
            ]
          },
          "metadata": {
            "needs_background": "light"
          },
          "output_type": "display_data"
        }
      ],
      "source": [
        "list_popularity = []\n",
        "\n",
        "for element in unique_genres:\n",
        "  sumOf = 0\n",
        "  howMany = 0\n",
        "  for index,row in df.iterrows():\n",
        "        if (row.genres.find(element) != -1):\n",
        "                sumOf+=row.popularity\n",
        "                howMany+=1\n",
        "                avg = sumOf/howMany\n",
        "\n",
        "  list_popularity.append([element,avg])\n",
        "  \n",
        "popularitydf = pd.DataFrame(list_popularity, columns = [\"Genres\",\"Popularity\"])\n",
        "\n",
        "x = popularitydf[\"Genres\"]\n",
        "y = popularitydf[\"Popularity\"]\n",
        "\n",
        "plt.barh(x,y)\n",
        "plt.show()"
      ]
    },
    {
      "cell_type": "markdown",
      "metadata": {
        "id": "pWn3tYBMWTdD"
      },
      "source": [
        "  The main purpose o this cell to add a new column which includes name of genres which movie in that row has. Hence it is way more difficult to work with a string data which looks like a dictionary, we made a genre list from that genre column. It significantly helps us to use those data by indexing that particular dataframe cell."
      ]
    },
    {
      "cell_type": "code",
      "execution_count": null,
      "metadata": {
        "colab": {
          "base_uri": "https://localhost:8080/",
          "height": 803
        },
        "id": "2_LC17tCI5Hw",
        "outputId": "335f872d-aaaa-4b5d-d9a0-eae276dcddb8",
        "vscode": {
          "languageId": "python"
        }
      },
      "outputs": [
        {
          "data": {
            "text/html": [
              "\n",
              "  <div id=\"df-73c46e02-f94d-4add-8f6e-03503c122779\">\n",
              "    <div class=\"colab-df-container\">\n",
              "      <div>\n",
              "<style scoped>\n",
              "    .dataframe tbody tr th:only-of-type {\n",
              "        vertical-align: middle;\n",
              "    }\n",
              "\n",
              "    .dataframe tbody tr th {\n",
              "        vertical-align: top;\n",
              "    }\n",
              "\n",
              "    .dataframe thead th {\n",
              "        text-align: right;\n",
              "    }\n",
              "</style>\n",
              "<table border=\"1\" class=\"dataframe\">\n",
              "  <thead>\n",
              "    <tr style=\"text-align: right;\">\n",
              "      <th></th>\n",
              "      <th>budget</th>\n",
              "      <th>genres</th>\n",
              "      <th>homepage</th>\n",
              "      <th>id</th>\n",
              "      <th>keywords</th>\n",
              "      <th>original_language</th>\n",
              "      <th>original_title</th>\n",
              "      <th>overview</th>\n",
              "      <th>popularity</th>\n",
              "      <th>production_companies</th>\n",
              "      <th>...</th>\n",
              "      <th>spoken_languages</th>\n",
              "      <th>status</th>\n",
              "      <th>tagline</th>\n",
              "      <th>title</th>\n",
              "      <th>vote_average</th>\n",
              "      <th>vote_count</th>\n",
              "      <th>year</th>\n",
              "      <th>profit</th>\n",
              "      <th>sum_vote</th>\n",
              "      <th>newgenre</th>\n",
              "    </tr>\n",
              "  </thead>\n",
              "  <tbody>\n",
              "    <tr>\n",
              "      <th>0</th>\n",
              "      <td>237000000</td>\n",
              "      <td>[{\"id\": 28, \"name\": \"Action\"}, {\"id\": 12, \"nam...</td>\n",
              "      <td>http://www.avatarmovie.com/</td>\n",
              "      <td>19995</td>\n",
              "      <td>[{\"id\": 1463, \"name\": \"culture clash\"}, {\"id\":...</td>\n",
              "      <td>en</td>\n",
              "      <td>Avatar</td>\n",
              "      <td>In the 22nd century, a paraplegic Marine is di...</td>\n",
              "      <td>150.437577</td>\n",
              "      <td>[{\"name\": \"Ingenious Film Partners\", \"id\": 289...</td>\n",
              "      <td>...</td>\n",
              "      <td>[{\"iso_639_1\": \"en\", \"name\": \"English\"}, {\"iso...</td>\n",
              "      <td>Released</td>\n",
              "      <td>Enter the World of Pandora.</td>\n",
              "      <td>Avatar</td>\n",
              "      <td>7.2</td>\n",
              "      <td>11800</td>\n",
              "      <td>2009</td>\n",
              "      <td>2550965087</td>\n",
              "      <td>84960.0</td>\n",
              "      <td>[Action, Adventure, Fantasy, Science Fiction]</td>\n",
              "    </tr>\n",
              "    <tr>\n",
              "      <th>1</th>\n",
              "      <td>300000000</td>\n",
              "      <td>[{\"id\": 12, \"name\": \"Adventure\"}, {\"id\": 14, \"...</td>\n",
              "      <td>http://disney.go.com/disneypictures/pirates/</td>\n",
              "      <td>285</td>\n",
              "      <td>[{\"id\": 270, \"name\": \"ocean\"}, {\"id\": 726, \"na...</td>\n",
              "      <td>en</td>\n",
              "      <td>Pirates of the Caribbean: At World's End</td>\n",
              "      <td>Captain Barbossa, long believed to be dead, ha...</td>\n",
              "      <td>139.082615</td>\n",
              "      <td>[{\"name\": \"Walt Disney Pictures\", \"id\": 2}, {\"...</td>\n",
              "      <td>...</td>\n",
              "      <td>[{\"iso_639_1\": \"en\", \"name\": \"English\"}]</td>\n",
              "      <td>Released</td>\n",
              "      <td>At the end of the world, the adventure begins.</td>\n",
              "      <td>Pirates of the Caribbean: At World's End</td>\n",
              "      <td>6.9</td>\n",
              "      <td>4500</td>\n",
              "      <td>2007</td>\n",
              "      <td>661000000</td>\n",
              "      <td>31050.0</td>\n",
              "      <td>[Adventure, Fantasy, Action]</td>\n",
              "    </tr>\n",
              "    <tr>\n",
              "      <th>2</th>\n",
              "      <td>245000000</td>\n",
              "      <td>[{\"id\": 28, \"name\": \"Action\"}, {\"id\": 12, \"nam...</td>\n",
              "      <td>http://www.sonypictures.com/movies/spectre/</td>\n",
              "      <td>206647</td>\n",
              "      <td>[{\"id\": 470, \"name\": \"spy\"}, {\"id\": 818, \"name...</td>\n",
              "      <td>en</td>\n",
              "      <td>Spectre</td>\n",
              "      <td>A cryptic message from Bond’s past sends him o...</td>\n",
              "      <td>107.376788</td>\n",
              "      <td>[{\"name\": \"Columbia Pictures\", \"id\": 5}, {\"nam...</td>\n",
              "      <td>...</td>\n",
              "      <td>[{\"iso_639_1\": \"fr\", \"name\": \"Fran\\u00e7ais\"},...</td>\n",
              "      <td>Released</td>\n",
              "      <td>A Plan No One Escapes</td>\n",
              "      <td>Spectre</td>\n",
              "      <td>6.3</td>\n",
              "      <td>4466</td>\n",
              "      <td>2015</td>\n",
              "      <td>635674609</td>\n",
              "      <td>28135.8</td>\n",
              "      <td>[Action, Adventure, Crime]</td>\n",
              "    </tr>\n",
              "    <tr>\n",
              "      <th>3</th>\n",
              "      <td>250000000</td>\n",
              "      <td>[{\"id\": 28, \"name\": \"Action\"}, {\"id\": 80, \"nam...</td>\n",
              "      <td>http://www.thedarkknightrises.com/</td>\n",
              "      <td>49026</td>\n",
              "      <td>[{\"id\": 849, \"name\": \"dc comics\"}, {\"id\": 853,...</td>\n",
              "      <td>en</td>\n",
              "      <td>The Dark Knight Rises</td>\n",
              "      <td>Following the death of District Attorney Harve...</td>\n",
              "      <td>112.312950</td>\n",
              "      <td>[{\"name\": \"Legendary Pictures\", \"id\": 923}, {\"...</td>\n",
              "      <td>...</td>\n",
              "      <td>[{\"iso_639_1\": \"en\", \"name\": \"English\"}]</td>\n",
              "      <td>Released</td>\n",
              "      <td>The Legend Ends</td>\n",
              "      <td>The Dark Knight Rises</td>\n",
              "      <td>7.6</td>\n",
              "      <td>9106</td>\n",
              "      <td>2012</td>\n",
              "      <td>834939099</td>\n",
              "      <td>69205.6</td>\n",
              "      <td>[Action, Crime, Drama, Thriller]</td>\n",
              "    </tr>\n",
              "    <tr>\n",
              "      <th>4</th>\n",
              "      <td>260000000</td>\n",
              "      <td>[{\"id\": 28, \"name\": \"Action\"}, {\"id\": 12, \"nam...</td>\n",
              "      <td>http://movies.disney.com/john-carter</td>\n",
              "      <td>49529</td>\n",
              "      <td>[{\"id\": 818, \"name\": \"based on novel\"}, {\"id\":...</td>\n",
              "      <td>en</td>\n",
              "      <td>John Carter</td>\n",
              "      <td>John Carter is a war-weary, former military ca...</td>\n",
              "      <td>43.926995</td>\n",
              "      <td>[{\"name\": \"Walt Disney Pictures\", \"id\": 2}]</td>\n",
              "      <td>...</td>\n",
              "      <td>[{\"iso_639_1\": \"en\", \"name\": \"English\"}]</td>\n",
              "      <td>Released</td>\n",
              "      <td>Lost in our world, found in another.</td>\n",
              "      <td>John Carter</td>\n",
              "      <td>6.1</td>\n",
              "      <td>2124</td>\n",
              "      <td>2012</td>\n",
              "      <td>24139100</td>\n",
              "      <td>12956.4</td>\n",
              "      <td>[Action, Adventure, Science Fiction]</td>\n",
              "    </tr>\n",
              "  </tbody>\n",
              "</table>\n",
              "<p>5 rows × 24 columns</p>\n",
              "</div>\n",
              "      <button class=\"colab-df-convert\" onclick=\"convertToInteractive('df-73c46e02-f94d-4add-8f6e-03503c122779')\"\n",
              "              title=\"Convert this dataframe to an interactive table.\"\n",
              "              style=\"display:none;\">\n",
              "        \n",
              "  <svg xmlns=\"http://www.w3.org/2000/svg\" height=\"24px\"viewBox=\"0 0 24 24\"\n",
              "       width=\"24px\">\n",
              "    <path d=\"M0 0h24v24H0V0z\" fill=\"none\"/>\n",
              "    <path d=\"M18.56 5.44l.94 2.06.94-2.06 2.06-.94-2.06-.94-.94-2.06-.94 2.06-2.06.94zm-11 1L8.5 8.5l.94-2.06 2.06-.94-2.06-.94L8.5 2.5l-.94 2.06-2.06.94zm10 10l.94 2.06.94-2.06 2.06-.94-2.06-.94-.94-2.06-.94 2.06-2.06.94z\"/><path d=\"M17.41 7.96l-1.37-1.37c-.4-.4-.92-.59-1.43-.59-.52 0-1.04.2-1.43.59L10.3 9.45l-7.72 7.72c-.78.78-.78 2.05 0 2.83L4 21.41c.39.39.9.59 1.41.59.51 0 1.02-.2 1.41-.59l7.78-7.78 2.81-2.81c.8-.78.8-2.07 0-2.86zM5.41 20L4 18.59l7.72-7.72 1.47 1.35L5.41 20z\"/>\n",
              "  </svg>\n",
              "      </button>\n",
              "      \n",
              "  <style>\n",
              "    .colab-df-container {\n",
              "      display:flex;\n",
              "      flex-wrap:wrap;\n",
              "      gap: 12px;\n",
              "    }\n",
              "\n",
              "    .colab-df-convert {\n",
              "      background-color: #E8F0FE;\n",
              "      border: none;\n",
              "      border-radius: 50%;\n",
              "      cursor: pointer;\n",
              "      display: none;\n",
              "      fill: #1967D2;\n",
              "      height: 32px;\n",
              "      padding: 0 0 0 0;\n",
              "      width: 32px;\n",
              "    }\n",
              "\n",
              "    .colab-df-convert:hover {\n",
              "      background-color: #E2EBFA;\n",
              "      box-shadow: 0px 1px 2px rgba(60, 64, 67, 0.3), 0px 1px 3px 1px rgba(60, 64, 67, 0.15);\n",
              "      fill: #174EA6;\n",
              "    }\n",
              "\n",
              "    [theme=dark] .colab-df-convert {\n",
              "      background-color: #3B4455;\n",
              "      fill: #D2E3FC;\n",
              "    }\n",
              "\n",
              "    [theme=dark] .colab-df-convert:hover {\n",
              "      background-color: #434B5C;\n",
              "      box-shadow: 0px 1px 3px 1px rgba(0, 0, 0, 0.15);\n",
              "      filter: drop-shadow(0px 1px 2px rgba(0, 0, 0, 0.3));\n",
              "      fill: #FFFFFF;\n",
              "    }\n",
              "  </style>\n",
              "\n",
              "      <script>\n",
              "        const buttonEl =\n",
              "          document.querySelector('#df-73c46e02-f94d-4add-8f6e-03503c122779 button.colab-df-convert');\n",
              "        buttonEl.style.display =\n",
              "          google.colab.kernel.accessAllowed ? 'block' : 'none';\n",
              "\n",
              "        async function convertToInteractive(key) {\n",
              "          const element = document.querySelector('#df-73c46e02-f94d-4add-8f6e-03503c122779');\n",
              "          const dataTable =\n",
              "            await google.colab.kernel.invokeFunction('convertToInteractive',\n",
              "                                                     [key], {});\n",
              "          if (!dataTable) return;\n",
              "\n",
              "          const docLinkHtml = 'Like what you see? Visit the ' +\n",
              "            '<a target=\"_blank\" href=https://colab.research.google.com/notebooks/data_table.ipynb>data table notebook</a>'\n",
              "            + ' to learn more about interactive tables.';\n",
              "          element.innerHTML = '';\n",
              "          dataTable['output_type'] = 'display_data';\n",
              "          await google.colab.output.renderOutput(dataTable, element);\n",
              "          const docLink = document.createElement('div');\n",
              "          docLink.innerHTML = docLinkHtml;\n",
              "          element.appendChild(docLink);\n",
              "        }\n",
              "      </script>\n",
              "    </div>\n",
              "  </div>\n",
              "  "
            ],
            "text/plain": [
              "      budget                                             genres  \\\n",
              "0  237000000  [{\"id\": 28, \"name\": \"Action\"}, {\"id\": 12, \"nam...   \n",
              "1  300000000  [{\"id\": 12, \"name\": \"Adventure\"}, {\"id\": 14, \"...   \n",
              "2  245000000  [{\"id\": 28, \"name\": \"Action\"}, {\"id\": 12, \"nam...   \n",
              "3  250000000  [{\"id\": 28, \"name\": \"Action\"}, {\"id\": 80, \"nam...   \n",
              "4  260000000  [{\"id\": 28, \"name\": \"Action\"}, {\"id\": 12, \"nam...   \n",
              "\n",
              "                                       homepage      id  \\\n",
              "0                   http://www.avatarmovie.com/   19995   \n",
              "1  http://disney.go.com/disneypictures/pirates/     285   \n",
              "2   http://www.sonypictures.com/movies/spectre/  206647   \n",
              "3            http://www.thedarkknightrises.com/   49026   \n",
              "4          http://movies.disney.com/john-carter   49529   \n",
              "\n",
              "                                            keywords original_language  \\\n",
              "0  [{\"id\": 1463, \"name\": \"culture clash\"}, {\"id\":...                en   \n",
              "1  [{\"id\": 270, \"name\": \"ocean\"}, {\"id\": 726, \"na...                en   \n",
              "2  [{\"id\": 470, \"name\": \"spy\"}, {\"id\": 818, \"name...                en   \n",
              "3  [{\"id\": 849, \"name\": \"dc comics\"}, {\"id\": 853,...                en   \n",
              "4  [{\"id\": 818, \"name\": \"based on novel\"}, {\"id\":...                en   \n",
              "\n",
              "                             original_title  \\\n",
              "0                                    Avatar   \n",
              "1  Pirates of the Caribbean: At World's End   \n",
              "2                                   Spectre   \n",
              "3                     The Dark Knight Rises   \n",
              "4                               John Carter   \n",
              "\n",
              "                                            overview  popularity  \\\n",
              "0  In the 22nd century, a paraplegic Marine is di...  150.437577   \n",
              "1  Captain Barbossa, long believed to be dead, ha...  139.082615   \n",
              "2  A cryptic message from Bond’s past sends him o...  107.376788   \n",
              "3  Following the death of District Attorney Harve...  112.312950   \n",
              "4  John Carter is a war-weary, former military ca...   43.926995   \n",
              "\n",
              "                                production_companies  ...  \\\n",
              "0  [{\"name\": \"Ingenious Film Partners\", \"id\": 289...  ...   \n",
              "1  [{\"name\": \"Walt Disney Pictures\", \"id\": 2}, {\"...  ...   \n",
              "2  [{\"name\": \"Columbia Pictures\", \"id\": 5}, {\"nam...  ...   \n",
              "3  [{\"name\": \"Legendary Pictures\", \"id\": 923}, {\"...  ...   \n",
              "4        [{\"name\": \"Walt Disney Pictures\", \"id\": 2}]  ...   \n",
              "\n",
              "                                    spoken_languages    status  \\\n",
              "0  [{\"iso_639_1\": \"en\", \"name\": \"English\"}, {\"iso...  Released   \n",
              "1           [{\"iso_639_1\": \"en\", \"name\": \"English\"}]  Released   \n",
              "2  [{\"iso_639_1\": \"fr\", \"name\": \"Fran\\u00e7ais\"},...  Released   \n",
              "3           [{\"iso_639_1\": \"en\", \"name\": \"English\"}]  Released   \n",
              "4           [{\"iso_639_1\": \"en\", \"name\": \"English\"}]  Released   \n",
              "\n",
              "                                          tagline  \\\n",
              "0                     Enter the World of Pandora.   \n",
              "1  At the end of the world, the adventure begins.   \n",
              "2                           A Plan No One Escapes   \n",
              "3                                 The Legend Ends   \n",
              "4            Lost in our world, found in another.   \n",
              "\n",
              "                                      title vote_average vote_count  year  \\\n",
              "0                                    Avatar          7.2      11800  2009   \n",
              "1  Pirates of the Caribbean: At World's End          6.9       4500  2007   \n",
              "2                                   Spectre          6.3       4466  2015   \n",
              "3                     The Dark Knight Rises          7.6       9106  2012   \n",
              "4                               John Carter          6.1       2124  2012   \n",
              "\n",
              "       profit  sum_vote                                       newgenre  \n",
              "0  2550965087   84960.0  [Action, Adventure, Fantasy, Science Fiction]  \n",
              "1   661000000   31050.0                   [Adventure, Fantasy, Action]  \n",
              "2   635674609   28135.8                     [Action, Adventure, Crime]  \n",
              "3   834939099   69205.6               [Action, Crime, Drama, Thriller]  \n",
              "4    24139100   12956.4           [Action, Adventure, Science Fiction]  \n",
              "\n",
              "[5 rows x 24 columns]"
            ]
          },
          "execution_count": 20,
          "metadata": {},
          "output_type": "execute_result"
        }
      ],
      "source": [
        "newgenre = []\n",
        "\n",
        "for i in range (len(df[\"genres\"])):\n",
        "  a = (ast.literal_eval(df[\"genres\"][i]))\n",
        "  listgenre = []\n",
        "\n",
        "  for j in range (len(a)):\n",
        "    indx = a[j][\"name\"]\n",
        "    listgenre.append(indx)\n",
        "\n",
        "  newgenre.append(listgenre)  \n",
        "\n",
        "df[\"newgenre\"] = newgenre\n",
        "df.head()"
      ]
    },
    {
      "cell_type": "markdown",
      "metadata": {
        "id": "PIkCRMOCfVFD"
      },
      "source": [
        "\n",
        "  This part is one of the most important part that we are going to use in machine learning part of our project. By the using “newgenre”  column that we iterated in the cell before, we check every rows of “newgenre” data if there are any genre that we are looking for. For example by using this algorithm we can detect all Action movies. After that we create a new dataframe for that unique genre. In machine learning part we can use that specific dataframe to work on comedy movies etc.\n"
      ]
    },
    {
      "cell_type": "code",
      "execution_count": null,
      "metadata": {
        "colab": {
          "base_uri": "https://localhost:8080/",
          "height": 423
        },
        "id": "sP21f9KcSQ6y",
        "outputId": "1cec102f-e4eb-472e-98cc-94095fb14006",
        "vscode": {
          "languageId": "python"
        }
      },
      "outputs": [
        {
          "data": {
            "text/html": [
              "\n",
              "  <div id=\"df-d2c1f643-5086-43b5-8a28-b12db90f82c1\">\n",
              "    <div class=\"colab-df-container\">\n",
              "      <div>\n",
              "<style scoped>\n",
              "    .dataframe tbody tr th:only-of-type {\n",
              "        vertical-align: middle;\n",
              "    }\n",
              "\n",
              "    .dataframe tbody tr th {\n",
              "        vertical-align: top;\n",
              "    }\n",
              "\n",
              "    .dataframe thead th {\n",
              "        text-align: right;\n",
              "    }\n",
              "</style>\n",
              "<table border=\"1\" class=\"dataframe\">\n",
              "  <thead>\n",
              "    <tr style=\"text-align: right;\">\n",
              "      <th></th>\n",
              "      <th>budget</th>\n",
              "      <th>popularity</th>\n",
              "      <th>revenue</th>\n",
              "      <th>profit</th>\n",
              "      <th>sum_vote</th>\n",
              "      <th>year</th>\n",
              "      <th>original_language</th>\n",
              "    </tr>\n",
              "  </thead>\n",
              "  <tbody>\n",
              "    <tr>\n",
              "      <th>0</th>\n",
              "      <td>237000000</td>\n",
              "      <td>150.437577</td>\n",
              "      <td>2787965087</td>\n",
              "      <td>2550965087</td>\n",
              "      <td>84960.0</td>\n",
              "      <td>2009</td>\n",
              "      <td>en</td>\n",
              "    </tr>\n",
              "    <tr>\n",
              "      <th>1</th>\n",
              "      <td>300000000</td>\n",
              "      <td>139.082615</td>\n",
              "      <td>961000000</td>\n",
              "      <td>661000000</td>\n",
              "      <td>31050.0</td>\n",
              "      <td>2007</td>\n",
              "      <td>en</td>\n",
              "    </tr>\n",
              "    <tr>\n",
              "      <th>2</th>\n",
              "      <td>245000000</td>\n",
              "      <td>107.376788</td>\n",
              "      <td>880674609</td>\n",
              "      <td>635674609</td>\n",
              "      <td>28135.8</td>\n",
              "      <td>2015</td>\n",
              "      <td>en</td>\n",
              "    </tr>\n",
              "    <tr>\n",
              "      <th>3</th>\n",
              "      <td>250000000</td>\n",
              "      <td>112.312950</td>\n",
              "      <td>1084939099</td>\n",
              "      <td>834939099</td>\n",
              "      <td>69205.6</td>\n",
              "      <td>2012</td>\n",
              "      <td>en</td>\n",
              "    </tr>\n",
              "    <tr>\n",
              "      <th>4</th>\n",
              "      <td>260000000</td>\n",
              "      <td>43.926995</td>\n",
              "      <td>284139100</td>\n",
              "      <td>24139100</td>\n",
              "      <td>12956.4</td>\n",
              "      <td>2012</td>\n",
              "      <td>en</td>\n",
              "    </tr>\n",
              "    <tr>\n",
              "      <th>...</th>\n",
              "      <td>...</td>\n",
              "      <td>...</td>\n",
              "      <td>...</td>\n",
              "      <td>...</td>\n",
              "      <td>...</td>\n",
              "      <td>...</td>\n",
              "      <td>...</td>\n",
              "    </tr>\n",
              "    <tr>\n",
              "      <th>1149</th>\n",
              "      <td>20000000</td>\n",
              "      <td>0.053755</td>\n",
              "      <td>36642838</td>\n",
              "      <td>16642838</td>\n",
              "      <td>5.0</td>\n",
              "      <td>2013</td>\n",
              "      <td>en</td>\n",
              "    </tr>\n",
              "    <tr>\n",
              "      <th>1150</th>\n",
              "      <td>20000000</td>\n",
              "      <td>0.003582</td>\n",
              "      <td>36642838</td>\n",
              "      <td>16642838</td>\n",
              "      <td>0.0</td>\n",
              "      <td>2007</td>\n",
              "      <td>en</td>\n",
              "    </tr>\n",
              "    <tr>\n",
              "      <th>1151</th>\n",
              "      <td>31192</td>\n",
              "      <td>1.330379</td>\n",
              "      <td>10000</td>\n",
              "      <td>-21192</td>\n",
              "      <td>163.8</td>\n",
              "      <td>2009</td>\n",
              "      <td>en</td>\n",
              "    </tr>\n",
              "    <tr>\n",
              "      <th>1152</th>\n",
              "      <td>20000000</td>\n",
              "      <td>7.101197</td>\n",
              "      <td>36642838</td>\n",
              "      <td>16642838</td>\n",
              "      <td>786.0</td>\n",
              "      <td>2009</td>\n",
              "      <td>en</td>\n",
              "    </tr>\n",
              "    <tr>\n",
              "      <th>1153</th>\n",
              "      <td>220000</td>\n",
              "      <td>14.269792</td>\n",
              "      <td>2040920</td>\n",
              "      <td>1820920</td>\n",
              "      <td>1570.8</td>\n",
              "      <td>1992</td>\n",
              "      <td>es</td>\n",
              "    </tr>\n",
              "  </tbody>\n",
              "</table>\n",
              "<p>1154 rows × 7 columns</p>\n",
              "</div>\n",
              "      <button class=\"colab-df-convert\" onclick=\"convertToInteractive('df-d2c1f643-5086-43b5-8a28-b12db90f82c1')\"\n",
              "              title=\"Convert this dataframe to an interactive table.\"\n",
              "              style=\"display:none;\">\n",
              "        \n",
              "  <svg xmlns=\"http://www.w3.org/2000/svg\" height=\"24px\"viewBox=\"0 0 24 24\"\n",
              "       width=\"24px\">\n",
              "    <path d=\"M0 0h24v24H0V0z\" fill=\"none\"/>\n",
              "    <path d=\"M18.56 5.44l.94 2.06.94-2.06 2.06-.94-2.06-.94-.94-2.06-.94 2.06-2.06.94zm-11 1L8.5 8.5l.94-2.06 2.06-.94-2.06-.94L8.5 2.5l-.94 2.06-2.06.94zm10 10l.94 2.06.94-2.06 2.06-.94-2.06-.94-.94-2.06-.94 2.06-2.06.94z\"/><path d=\"M17.41 7.96l-1.37-1.37c-.4-.4-.92-.59-1.43-.59-.52 0-1.04.2-1.43.59L10.3 9.45l-7.72 7.72c-.78.78-.78 2.05 0 2.83L4 21.41c.39.39.9.59 1.41.59.51 0 1.02-.2 1.41-.59l7.78-7.78 2.81-2.81c.8-.78.8-2.07 0-2.86zM5.41 20L4 18.59l7.72-7.72 1.47 1.35L5.41 20z\"/>\n",
              "  </svg>\n",
              "      </button>\n",
              "      \n",
              "  <style>\n",
              "    .colab-df-container {\n",
              "      display:flex;\n",
              "      flex-wrap:wrap;\n",
              "      gap: 12px;\n",
              "    }\n",
              "\n",
              "    .colab-df-convert {\n",
              "      background-color: #E8F0FE;\n",
              "      border: none;\n",
              "      border-radius: 50%;\n",
              "      cursor: pointer;\n",
              "      display: none;\n",
              "      fill: #1967D2;\n",
              "      height: 32px;\n",
              "      padding: 0 0 0 0;\n",
              "      width: 32px;\n",
              "    }\n",
              "\n",
              "    .colab-df-convert:hover {\n",
              "      background-color: #E2EBFA;\n",
              "      box-shadow: 0px 1px 2px rgba(60, 64, 67, 0.3), 0px 1px 3px 1px rgba(60, 64, 67, 0.15);\n",
              "      fill: #174EA6;\n",
              "    }\n",
              "\n",
              "    [theme=dark] .colab-df-convert {\n",
              "      background-color: #3B4455;\n",
              "      fill: #D2E3FC;\n",
              "    }\n",
              "\n",
              "    [theme=dark] .colab-df-convert:hover {\n",
              "      background-color: #434B5C;\n",
              "      box-shadow: 0px 1px 3px 1px rgba(0, 0, 0, 0.15);\n",
              "      filter: drop-shadow(0px 1px 2px rgba(0, 0, 0, 0.3));\n",
              "      fill: #FFFFFF;\n",
              "    }\n",
              "  </style>\n",
              "\n",
              "      <script>\n",
              "        const buttonEl =\n",
              "          document.querySelector('#df-d2c1f643-5086-43b5-8a28-b12db90f82c1 button.colab-df-convert');\n",
              "        buttonEl.style.display =\n",
              "          google.colab.kernel.accessAllowed ? 'block' : 'none';\n",
              "\n",
              "        async function convertToInteractive(key) {\n",
              "          const element = document.querySelector('#df-d2c1f643-5086-43b5-8a28-b12db90f82c1');\n",
              "          const dataTable =\n",
              "            await google.colab.kernel.invokeFunction('convertToInteractive',\n",
              "                                                     [key], {});\n",
              "          if (!dataTable) return;\n",
              "\n",
              "          const docLinkHtml = 'Like what you see? Visit the ' +\n",
              "            '<a target=\"_blank\" href=https://colab.research.google.com/notebooks/data_table.ipynb>data table notebook</a>'\n",
              "            + ' to learn more about interactive tables.';\n",
              "          element.innerHTML = '';\n",
              "          dataTable['output_type'] = 'display_data';\n",
              "          await google.colab.output.renderOutput(dataTable, element);\n",
              "          const docLink = document.createElement('div');\n",
              "          docLink.innerHTML = docLinkHtml;\n",
              "          element.appendChild(docLink);\n",
              "        }\n",
              "      </script>\n",
              "    </div>\n",
              "  </div>\n",
              "  "
            ],
            "text/plain": [
              "         budget  popularity     revenue      profit  sum_vote  year  \\\n",
              "0     237000000  150.437577  2787965087  2550965087   84960.0  2009   \n",
              "1     300000000  139.082615   961000000   661000000   31050.0  2007   \n",
              "2     245000000  107.376788   880674609   635674609   28135.8  2015   \n",
              "3     250000000  112.312950  1084939099   834939099   69205.6  2012   \n",
              "4     260000000   43.926995   284139100    24139100   12956.4  2012   \n",
              "...         ...         ...         ...         ...       ...   ...   \n",
              "1149   20000000    0.053755    36642838    16642838       5.0  2013   \n",
              "1150   20000000    0.003582    36642838    16642838       0.0  2007   \n",
              "1151      31192    1.330379       10000      -21192     163.8  2009   \n",
              "1152   20000000    7.101197    36642838    16642838     786.0  2009   \n",
              "1153     220000   14.269792     2040920     1820920    1570.8  1992   \n",
              "\n",
              "     original_language  \n",
              "0                   en  \n",
              "1                   en  \n",
              "2                   en  \n",
              "3                   en  \n",
              "4                   en  \n",
              "...                ...  \n",
              "1149                en  \n",
              "1150                en  \n",
              "1151                en  \n",
              "1152                en  \n",
              "1153                es  \n",
              "\n",
              "[1154 rows x 7 columns]"
            ]
          },
          "execution_count": 21,
          "metadata": {},
          "output_type": "execute_result"
        }
      ],
      "source": [
        "new_rows = []\n",
        "\n",
        "\n",
        "for index,row in df.iterrows():\n",
        "  for k in row.newgenre: \n",
        "      if (k == \"Action\"):\n",
        "        newrow = row\n",
        "        new_rows.append(newrow)\n",
        "        ActionDF = pd.DataFrame(new_rows, columns=df.columns).reset_index()\n",
        "        ActionDF =  ActionDF[[\"budget\", \"popularity\", \"revenue\", \"profit\", \"sum_vote\", \"year\", \"original_language\"]]\n",
        "        \n",
        "ActionDF"
      ]
    },
    {
      "cell_type": "markdown",
      "metadata": {
        "id": "_CcbFp4y3Ugr"
      },
      "source": [
        "After this part we are going to use ActionDF to test our machine learning model. Hence all other genre data frames work same as ActionDF, it would show us that our machine learning model works or not. In case you would like to see results of each genres it would be enough to run the genre DF cell and change the name in the machine learning model for that specific cell."
      ]
    },
    {
      "cell_type": "code",
      "execution_count": null,
      "metadata": {
        "id": "WbAbXntRM_yB",
        "vscode": {
          "languageId": "python"
        }
      },
      "outputs": [],
      "source": [
        "new_rows.clear()\n",
        "for index,row in df.iterrows():\n",
        "  for k in row.newgenre: \n",
        "      if (k == \"Horror\"):\n",
        "        newrow = row\n",
        "        new_rows.append(newrow)\n",
        "        HorrorDF = pd.DataFrame(new_rows, columns=df.columns).reset_index()\n",
        "        HorrorDF =  HorrorDF[[\"budget\", \"popularity\", \"revenue\", \"profit\", \"sum_vote\", \"year\", \"original_language\"]]\n",
        "HorrorDF"
      ]
    },
    {
      "cell_type": "code",
      "execution_count": null,
      "metadata": {
        "id": "CvELc7o2NCap",
        "vscode": {
          "languageId": "python"
        }
      },
      "outputs": [],
      "source": [
        "new_rows.clear()\n",
        "for index,row in df.iterrows():\n",
        "  for k in row.newgenre: \n",
        "      if (k == \"History\"):\n",
        "        newrow = row\n",
        "        new_rows.append(newrow)\n",
        "        HistoryDF = pd.DataFrame(new_rows, columns=df.columns).reset_index()\n",
        "        HistoryDF =  HistoryDF[[\"budget\", \"popularity\", \"revenue\", \"profit\", \"sum_vote\", \"year\", \"original_language\"]]\n",
        "HistoryDF"
      ]
    },
    {
      "cell_type": "code",
      "execution_count": null,
      "metadata": {
        "id": "C64gw3bENVru",
        "vscode": {
          "languageId": "python"
        }
      },
      "outputs": [],
      "source": [
        "new_rows.clear()\n",
        "for index,row in df.iterrows():\n",
        "  for k in row.newgenre: \n",
        "      if (k == \"Drama\"):\n",
        "        newrow = row\n",
        "        new_rows.append(newrow)\n",
        "        DramaDF = pd.DataFrame(new_rows, columns=df.columns).reset_index()\n",
        "        DramaDF =  DramaDF[[\"budget\", \"popularity\", \"revenue\", \"profit\", \"sum_vote\", \"year\", \"original_language\"]]\n",
        "DramaDF"
      ]
    },
    {
      "cell_type": "code",
      "execution_count": null,
      "metadata": {
        "id": "tPb_4w2INYh1",
        "vscode": {
          "languageId": "python"
        }
      },
      "outputs": [],
      "source": [
        "new_rows.clear()\n",
        "for index,row in df.iterrows():\n",
        "  for k in row.newgenre: \n",
        "      if (k == \"Documentary\"):\n",
        "        newrow = row\n",
        "        new_rows.append(newrow)\n",
        "        DocuDF = pd.DataFrame(new_rows, columns=df.columns).reset_index()\n",
        "        DocuDF =  DocuDF[[\"budget\", \"popularity\", \"revenue\", \"profit\", \"sum_vote\", \"year\", \"original_language\"]]\n",
        "DocuDF"
      ]
    },
    {
      "cell_type": "code",
      "execution_count": null,
      "metadata": {
        "id": "1msYeaQ1Na9F",
        "vscode": {
          "languageId": "python"
        }
      },
      "outputs": [],
      "source": [
        "new_rows.clear()\n",
        "for index,row in df.iterrows():\n",
        "  for k in row.newgenre: \n",
        "      if (k == \"Music\"):\n",
        "        newrow = row\n",
        "        new_rows.append(newrow)\n",
        "        MusicDF = pd.DataFrame(new_rows, columns=df.columns).reset_index()\n",
        "        MusicDF =  MusicDF[[\"budget\", \"popularity\", \"revenue\", \"profit\", \"sum_vote\", \"year\", \"original_language\"]]\n",
        "MusicDF"
      ]
    },
    {
      "cell_type": "code",
      "execution_count": null,
      "metadata": {
        "id": "zvBgnBJNNct9",
        "vscode": {
          "languageId": "python"
        }
      },
      "outputs": [],
      "source": [
        "new_rows.clear()\n",
        "for index,row in df.iterrows():\n",
        "  for k in row.newgenre: \n",
        "      if (k == \"Romance\"):\n",
        "        newrow = row\n",
        "        new_rows.append(newrow)\n",
        "        RomanceDF = pd.DataFrame(new_rows, columns=df.columns).reset_index()\n",
        "        RomanceDF =  RomanceDF[[\"budget\", \"popularity\", \"revenue\", \"profit\", \"sum_vote\", \"year\", \"original_language\"]]\n",
        "RomanceDF"
      ]
    },
    {
      "cell_type": "code",
      "execution_count": null,
      "metadata": {
        "id": "phShrhbvNePW",
        "vscode": {
          "languageId": "python"
        }
      },
      "outputs": [],
      "source": [
        "new_rows.clear()\n",
        "for index,row in df.iterrows():\n",
        "  for k in row.newgenre: \n",
        "      if (k == \"Family\"):\n",
        "        newrow = row\n",
        "        new_rows.append(newrow)\n",
        "        FamilyDF = pd.DataFrame(new_rows, columns=df.columns).reset_index()\n",
        "        FamilyDF =  FamilyDF[[\"budget\", \"popularity\", \"revenue\", \"profit\", \"sum_vote\", \"year\", \"original_language\"]]\n",
        "FamilyDF"
      ]
    },
    {
      "cell_type": "code",
      "execution_count": null,
      "metadata": {
        "id": "aJXHzXUBNfvY",
        "vscode": {
          "languageId": "python"
        }
      },
      "outputs": [],
      "source": [
        "new_rows.clear()\n",
        "for index,row in df.iterrows():\n",
        "  for k in row.newgenre: \n",
        "      if (k == \"Foreign\"):\n",
        "        newrow = row\n",
        "        new_rows.append(newrow)\n",
        "        ForeignDF = pd.DataFrame(new_rows, columns=df.columns).reset_index()\n",
        "        ForeignDF =  ForeignDF[[\"budget\", \"popularity\", \"revenue\", \"profit\", \"sum_vote\", \"year\", \"original_language\"]]\n",
        "\n",
        "ForeignDF"
      ]
    },
    {
      "cell_type": "code",
      "execution_count": null,
      "metadata": {
        "id": "pbSiXMzYNhNf",
        "vscode": {
          "languageId": "python"
        }
      },
      "outputs": [],
      "source": [
        "new_rows.clear()\n",
        "for index,row in df.iterrows():\n",
        "  for k in row.newgenre: \n",
        "      if (k == \"Adventure\"):\n",
        "        newrow = row\n",
        "        new_rows.append(newrow)\n",
        "        AdventureDF = pd.DataFrame(new_rows, columns=df.columns).reset_index()\n",
        "        AdventureDF =  AdventureDF[[\"budget\", \"popularity\", \"revenue\", \"profit\", \"sum_vote\", \"year\", \"original_language\"]]\n",
        "\n",
        "\n",
        "AdventureDF"
      ]
    },
    {
      "cell_type": "code",
      "execution_count": null,
      "metadata": {
        "id": "_klDBAkINirO",
        "vscode": {
          "languageId": "python"
        }
      },
      "outputs": [],
      "source": [
        "new_rows.clear()\n",
        "for index,row in df.iterrows():\n",
        "  for k in row.newgenre: \n",
        "      if (k == \"Mystery\"):\n",
        "        newrow = row\n",
        "        new_rows.append(newrow)\n",
        "        MysteryDF = pd.DataFrame(new_rows, columns=df.columns).reset_index()\n",
        "        MysteryDF =  MysteryDF[[\"budget\", \"popularity\", \"revenue\", \"profit\", \"sum_vote\", \"year\", \"original_language\"]]\n",
        "\n",
        "MysteryDF"
      ]
    },
    {
      "cell_type": "code",
      "execution_count": null,
      "metadata": {
        "id": "KjjTRLVgNkDv",
        "vscode": {
          "languageId": "python"
        }
      },
      "outputs": [],
      "source": [
        "new_rows.clear()\n",
        "for index,row in df.iterrows():\n",
        "  for k in row.newgenre: \n",
        "      if (k == \"Thriller\"):\n",
        "        newrow = row\n",
        "        new_rows.append(newrow)\n",
        "        ThrillerDF = pd.DataFrame(new_rows, columns=df.columns).reset_index()\n",
        "        ThrillerDF =  ThrillerDF[[\"budget\", \"popularity\", \"revenue\", \"profit\", \"sum_vote\", \"year\", \"original_language\"]]\n",
        "\n",
        "ThrillerDF"
      ]
    },
    {
      "cell_type": "code",
      "execution_count": null,
      "metadata": {
        "id": "M08yRw0QNliH",
        "vscode": {
          "languageId": "python"
        }
      },
      "outputs": [],
      "source": [
        "new_rows.clear()\n",
        "for index,row in df.iterrows():\n",
        "  for k in row.newgenre: \n",
        "      if (k == \"Crime\"):\n",
        "        newrow = row\n",
        "        new_rows.append(newrow)\n",
        "        CrimeDF = pd.DataFrame(new_rows, columns=df.columns).reset_index()\n",
        "        CrimeDF =  CrimeDF[[\"budget\", \"popularity\", \"revenue\", \"profit\", \"sum_vote\", \"year\", \"original_language\"]]\n",
        "CrimeDF"
      ]
    },
    {
      "cell_type": "code",
      "execution_count": null,
      "metadata": {
        "id": "vVPr32ddNmtY",
        "vscode": {
          "languageId": "python"
        }
      },
      "outputs": [],
      "source": [
        "new_rows.clear()\n",
        "for index,row in df.iterrows():\n",
        "  for k in row.newgenre: \n",
        "      if (k == \"Fantasy\"):\n",
        "        newrow = row\n",
        "        new_rows.append(newrow)\n",
        "        FantasyDF = pd.DataFrame(new_rows, columns=df.columns).reset_index()\n",
        "        FantasyDF =  FantasyDF[[\"budget\", \"popularity\", \"revenue\", \"profit\", \"sum_vote\", \"year\", \"original_language\"]]\n",
        "FantasyDF\n"
      ]
    },
    {
      "cell_type": "code",
      "execution_count": null,
      "metadata": {
        "id": "NIJl10wMNoFQ",
        "vscode": {
          "languageId": "python"
        }
      },
      "outputs": [],
      "source": [
        "new_rows.clear()\n",
        "for index,row in df.iterrows():\n",
        "  for k in row.newgenre: \n",
        "      if (k == \"War\"):\n",
        "        newrow = row\n",
        "        new_rows.append(newrow)\n",
        "        WarDF = pd.DataFrame(new_rows, columns=df.columns).reset_index()\n",
        "        WarDF =  WarDF[[\"budget\", \"popularity\", \"revenue\", \"profit\", \"sum_vote\", \"year\", \"original_language\"]]\n",
        "WarDF"
      ]
    },
    {
      "cell_type": "code",
      "execution_count": null,
      "metadata": {
        "id": "bga_E87JNpaA",
        "vscode": {
          "languageId": "python"
        }
      },
      "outputs": [],
      "source": [
        "new_rows.clear()\n",
        "for index,row in df.iterrows():\n",
        "  for k in row.newgenre: \n",
        "      if (k == \"Western\"):\n",
        "        newrow = row\n",
        "        new_rows.append(newrow)\n",
        "        WesternDF = pd.DataFrame(new_rows, columns=df.columns).reset_index()\n",
        "        WesternDF =  WesternDF[[\"budget\", \"popularity\", \"revenue\", \"profit\", \"sum_vote\", \"year\", \"original_language\"]]\n",
        "WesternDF\n"
      ]
    },
    {
      "cell_type": "code",
      "execution_count": null,
      "metadata": {
        "id": "jGQZLJbMNq95",
        "vscode": {
          "languageId": "python"
        }
      },
      "outputs": [],
      "source": [
        "new_rows.clear()\n",
        "for index,row in df.iterrows():\n",
        "  for k in row.newgenre: \n",
        "      if (k == \"Comedy\"):\n",
        "        newrow = row\n",
        "        new_rows.append(newrow)\n",
        "        ComedyDF = pd.DataFrame(new_rows, columns=df.columns).reset_index()\n",
        "        ComedyDF =  ComedyDF[[\"budget\", \"popularity\", \"revenue\", \"profit\", \"sum_vote\", \"year\", \"original_language\"]]\n",
        "ComedyDF"
      ]
    },
    {
      "cell_type": "code",
      "execution_count": null,
      "metadata": {
        "id": "kWkKSL1HNsSB",
        "vscode": {
          "languageId": "python"
        }
      },
      "outputs": [],
      "source": [
        "new_rows.clear()\n",
        "for index,row in df.iterrows():\n",
        "  for k in row.newgenre: \n",
        "      if (k == \"Animation\"):\n",
        "        newrow = row\n",
        "        new_rows.append(newrow)\n",
        "        AnimeDF = pd.DataFrame(new_rows, columns=df.columns).reset_index()\n",
        "        AnimeDF =  AnimeDF[[\"budget\", \"popularity\", \"revenue\", \"profit\", \"sum_vote\", \"year\", \"original_language\"]]\n",
        "AnimeDF"
      ]
    },
    {
      "cell_type": "code",
      "execution_count": null,
      "metadata": {
        "id": "2ERM9wp2i-mi",
        "vscode": {
          "languageId": "python"
        }
      },
      "outputs": [],
      "source": [
        "new_rows.clear()\n",
        "for index,row in df.iterrows():\n",
        "  for k in row.newgenre: \n",
        "      if (k == \"Science Fiction\"):\n",
        "        newrow = row\n",
        "        new_rows.append(newrow)\n",
        "        SciFiDF = pd.DataFrame(new_rows, columns=df.columns).reset_index()\n",
        "        SciFiDF =  SciFiDF[[\"budget\", \"popularity\", \"revenue\", \"profit\", \"sum_vote\", \"year\", \"original_language\"]]\n",
        "SciFiDF"
      ]
    },
    {
      "cell_type": "markdown",
      "metadata": {
        "id": "gWoY8F-v4ZU0"
      },
      "source": [
        "## Machine Learning Models\n"
      ]
    },
    {
      "cell_type": "markdown",
      "metadata": {
        "id": "PKC0joMSWMNX"
      },
      "source": [
        "The first model we're going to implement is Linear Regression. To increase the accuracy from 0.67 to 0.79, first, we are going to One-Hot Encode the original_language column. We use budget, popularity, sum_vote which we created above and original_language as indicators for the profit a movie makes. "
      ]
    },
    {
      "cell_type": "code",
      "execution_count": null,
      "metadata": {
        "colab": {
          "base_uri": "https://localhost:8080/",
          "height": 487
        },
        "id": "rbAwn4AROOOn",
        "outputId": "7b5a6273-025a-4da3-d937-af945700e0a3",
        "vscode": {
          "languageId": "python"
        }
      },
      "outputs": [
        {
          "data": {
            "text/html": [
              "\n",
              "  <div id=\"df-257cb0e2-f9b2-4a3c-89e6-e345b266d37e\">\n",
              "    <div class=\"colab-df-container\">\n",
              "      <div>\n",
              "<style scoped>\n",
              "    .dataframe tbody tr th:only-of-type {\n",
              "        vertical-align: middle;\n",
              "    }\n",
              "\n",
              "    .dataframe tbody tr th {\n",
              "        vertical-align: top;\n",
              "    }\n",
              "\n",
              "    .dataframe thead th {\n",
              "        text-align: right;\n",
              "    }\n",
              "</style>\n",
              "<table border=\"1\" class=\"dataframe\">\n",
              "  <thead>\n",
              "    <tr style=\"text-align: right;\">\n",
              "      <th></th>\n",
              "      <th>budget</th>\n",
              "      <th>popularity</th>\n",
              "      <th>revenue</th>\n",
              "      <th>profit</th>\n",
              "      <th>sum_vote</th>\n",
              "      <th>year</th>\n",
              "      <th>original_language</th>\n",
              "      <th>og_cn</th>\n",
              "      <th>og_de</th>\n",
              "      <th>og_en</th>\n",
              "      <th>...</th>\n",
              "      <th>og_ja</th>\n",
              "      <th>og_ko</th>\n",
              "      <th>og_ky</th>\n",
              "      <th>og_pt</th>\n",
              "      <th>og_ru</th>\n",
              "      <th>og_sv</th>\n",
              "      <th>og_te</th>\n",
              "      <th>og_th</th>\n",
              "      <th>og_tr</th>\n",
              "      <th>og_zh</th>\n",
              "    </tr>\n",
              "  </thead>\n",
              "  <tbody>\n",
              "    <tr>\n",
              "      <th>0</th>\n",
              "      <td>237000000</td>\n",
              "      <td>150.437577</td>\n",
              "      <td>2787965087</td>\n",
              "      <td>2550965087</td>\n",
              "      <td>84960.0</td>\n",
              "      <td>2009</td>\n",
              "      <td>en</td>\n",
              "      <td>0</td>\n",
              "      <td>0</td>\n",
              "      <td>1</td>\n",
              "      <td>...</td>\n",
              "      <td>0</td>\n",
              "      <td>0</td>\n",
              "      <td>0</td>\n",
              "      <td>0</td>\n",
              "      <td>0</td>\n",
              "      <td>0</td>\n",
              "      <td>0</td>\n",
              "      <td>0</td>\n",
              "      <td>0</td>\n",
              "      <td>0</td>\n",
              "    </tr>\n",
              "    <tr>\n",
              "      <th>1</th>\n",
              "      <td>300000000</td>\n",
              "      <td>139.082615</td>\n",
              "      <td>961000000</td>\n",
              "      <td>661000000</td>\n",
              "      <td>31050.0</td>\n",
              "      <td>2007</td>\n",
              "      <td>en</td>\n",
              "      <td>0</td>\n",
              "      <td>0</td>\n",
              "      <td>1</td>\n",
              "      <td>...</td>\n",
              "      <td>0</td>\n",
              "      <td>0</td>\n",
              "      <td>0</td>\n",
              "      <td>0</td>\n",
              "      <td>0</td>\n",
              "      <td>0</td>\n",
              "      <td>0</td>\n",
              "      <td>0</td>\n",
              "      <td>0</td>\n",
              "      <td>0</td>\n",
              "    </tr>\n",
              "    <tr>\n",
              "      <th>2</th>\n",
              "      <td>245000000</td>\n",
              "      <td>107.376788</td>\n",
              "      <td>880674609</td>\n",
              "      <td>635674609</td>\n",
              "      <td>28135.8</td>\n",
              "      <td>2015</td>\n",
              "      <td>en</td>\n",
              "      <td>0</td>\n",
              "      <td>0</td>\n",
              "      <td>1</td>\n",
              "      <td>...</td>\n",
              "      <td>0</td>\n",
              "      <td>0</td>\n",
              "      <td>0</td>\n",
              "      <td>0</td>\n",
              "      <td>0</td>\n",
              "      <td>0</td>\n",
              "      <td>0</td>\n",
              "      <td>0</td>\n",
              "      <td>0</td>\n",
              "      <td>0</td>\n",
              "    </tr>\n",
              "    <tr>\n",
              "      <th>3</th>\n",
              "      <td>250000000</td>\n",
              "      <td>112.312950</td>\n",
              "      <td>1084939099</td>\n",
              "      <td>834939099</td>\n",
              "      <td>69205.6</td>\n",
              "      <td>2012</td>\n",
              "      <td>en</td>\n",
              "      <td>0</td>\n",
              "      <td>0</td>\n",
              "      <td>1</td>\n",
              "      <td>...</td>\n",
              "      <td>0</td>\n",
              "      <td>0</td>\n",
              "      <td>0</td>\n",
              "      <td>0</td>\n",
              "      <td>0</td>\n",
              "      <td>0</td>\n",
              "      <td>0</td>\n",
              "      <td>0</td>\n",
              "      <td>0</td>\n",
              "      <td>0</td>\n",
              "    </tr>\n",
              "    <tr>\n",
              "      <th>4</th>\n",
              "      <td>260000000</td>\n",
              "      <td>43.926995</td>\n",
              "      <td>284139100</td>\n",
              "      <td>24139100</td>\n",
              "      <td>12956.4</td>\n",
              "      <td>2012</td>\n",
              "      <td>en</td>\n",
              "      <td>0</td>\n",
              "      <td>0</td>\n",
              "      <td>1</td>\n",
              "      <td>...</td>\n",
              "      <td>0</td>\n",
              "      <td>0</td>\n",
              "      <td>0</td>\n",
              "      <td>0</td>\n",
              "      <td>0</td>\n",
              "      <td>0</td>\n",
              "      <td>0</td>\n",
              "      <td>0</td>\n",
              "      <td>0</td>\n",
              "      <td>0</td>\n",
              "    </tr>\n",
              "    <tr>\n",
              "      <th>...</th>\n",
              "      <td>...</td>\n",
              "      <td>...</td>\n",
              "      <td>...</td>\n",
              "      <td>...</td>\n",
              "      <td>...</td>\n",
              "      <td>...</td>\n",
              "      <td>...</td>\n",
              "      <td>...</td>\n",
              "      <td>...</td>\n",
              "      <td>...</td>\n",
              "      <td>...</td>\n",
              "      <td>...</td>\n",
              "      <td>...</td>\n",
              "      <td>...</td>\n",
              "      <td>...</td>\n",
              "      <td>...</td>\n",
              "      <td>...</td>\n",
              "      <td>...</td>\n",
              "      <td>...</td>\n",
              "      <td>...</td>\n",
              "      <td>...</td>\n",
              "    </tr>\n",
              "    <tr>\n",
              "      <th>1149</th>\n",
              "      <td>20000000</td>\n",
              "      <td>0.053755</td>\n",
              "      <td>36642838</td>\n",
              "      <td>16642838</td>\n",
              "      <td>5.0</td>\n",
              "      <td>2013</td>\n",
              "      <td>en</td>\n",
              "      <td>0</td>\n",
              "      <td>0</td>\n",
              "      <td>1</td>\n",
              "      <td>...</td>\n",
              "      <td>0</td>\n",
              "      <td>0</td>\n",
              "      <td>0</td>\n",
              "      <td>0</td>\n",
              "      <td>0</td>\n",
              "      <td>0</td>\n",
              "      <td>0</td>\n",
              "      <td>0</td>\n",
              "      <td>0</td>\n",
              "      <td>0</td>\n",
              "    </tr>\n",
              "    <tr>\n",
              "      <th>1150</th>\n",
              "      <td>20000000</td>\n",
              "      <td>0.003582</td>\n",
              "      <td>36642838</td>\n",
              "      <td>16642838</td>\n",
              "      <td>0.0</td>\n",
              "      <td>2007</td>\n",
              "      <td>en</td>\n",
              "      <td>0</td>\n",
              "      <td>0</td>\n",
              "      <td>1</td>\n",
              "      <td>...</td>\n",
              "      <td>0</td>\n",
              "      <td>0</td>\n",
              "      <td>0</td>\n",
              "      <td>0</td>\n",
              "      <td>0</td>\n",
              "      <td>0</td>\n",
              "      <td>0</td>\n",
              "      <td>0</td>\n",
              "      <td>0</td>\n",
              "      <td>0</td>\n",
              "    </tr>\n",
              "    <tr>\n",
              "      <th>1151</th>\n",
              "      <td>31192</td>\n",
              "      <td>1.330379</td>\n",
              "      <td>10000</td>\n",
              "      <td>-21192</td>\n",
              "      <td>163.8</td>\n",
              "      <td>2009</td>\n",
              "      <td>en</td>\n",
              "      <td>0</td>\n",
              "      <td>0</td>\n",
              "      <td>1</td>\n",
              "      <td>...</td>\n",
              "      <td>0</td>\n",
              "      <td>0</td>\n",
              "      <td>0</td>\n",
              "      <td>0</td>\n",
              "      <td>0</td>\n",
              "      <td>0</td>\n",
              "      <td>0</td>\n",
              "      <td>0</td>\n",
              "      <td>0</td>\n",
              "      <td>0</td>\n",
              "    </tr>\n",
              "    <tr>\n",
              "      <th>1152</th>\n",
              "      <td>20000000</td>\n",
              "      <td>7.101197</td>\n",
              "      <td>36642838</td>\n",
              "      <td>16642838</td>\n",
              "      <td>786.0</td>\n",
              "      <td>2009</td>\n",
              "      <td>en</td>\n",
              "      <td>0</td>\n",
              "      <td>0</td>\n",
              "      <td>1</td>\n",
              "      <td>...</td>\n",
              "      <td>0</td>\n",
              "      <td>0</td>\n",
              "      <td>0</td>\n",
              "      <td>0</td>\n",
              "      <td>0</td>\n",
              "      <td>0</td>\n",
              "      <td>0</td>\n",
              "      <td>0</td>\n",
              "      <td>0</td>\n",
              "      <td>0</td>\n",
              "    </tr>\n",
              "    <tr>\n",
              "      <th>1153</th>\n",
              "      <td>220000</td>\n",
              "      <td>14.269792</td>\n",
              "      <td>2040920</td>\n",
              "      <td>1820920</td>\n",
              "      <td>1570.8</td>\n",
              "      <td>1992</td>\n",
              "      <td>es</td>\n",
              "      <td>0</td>\n",
              "      <td>0</td>\n",
              "      <td>0</td>\n",
              "      <td>...</td>\n",
              "      <td>0</td>\n",
              "      <td>0</td>\n",
              "      <td>0</td>\n",
              "      <td>0</td>\n",
              "      <td>0</td>\n",
              "      <td>0</td>\n",
              "      <td>0</td>\n",
              "      <td>0</td>\n",
              "      <td>0</td>\n",
              "      <td>0</td>\n",
              "    </tr>\n",
              "  </tbody>\n",
              "</table>\n",
              "<p>1154 rows × 25 columns</p>\n",
              "</div>\n",
              "      <button class=\"colab-df-convert\" onclick=\"convertToInteractive('df-257cb0e2-f9b2-4a3c-89e6-e345b266d37e')\"\n",
              "              title=\"Convert this dataframe to an interactive table.\"\n",
              "              style=\"display:none;\">\n",
              "        \n",
              "  <svg xmlns=\"http://www.w3.org/2000/svg\" height=\"24px\"viewBox=\"0 0 24 24\"\n",
              "       width=\"24px\">\n",
              "    <path d=\"M0 0h24v24H0V0z\" fill=\"none\"/>\n",
              "    <path d=\"M18.56 5.44l.94 2.06.94-2.06 2.06-.94-2.06-.94-.94-2.06-.94 2.06-2.06.94zm-11 1L8.5 8.5l.94-2.06 2.06-.94-2.06-.94L8.5 2.5l-.94 2.06-2.06.94zm10 10l.94 2.06.94-2.06 2.06-.94-2.06-.94-.94-2.06-.94 2.06-2.06.94z\"/><path d=\"M17.41 7.96l-1.37-1.37c-.4-.4-.92-.59-1.43-.59-.52 0-1.04.2-1.43.59L10.3 9.45l-7.72 7.72c-.78.78-.78 2.05 0 2.83L4 21.41c.39.39.9.59 1.41.59.51 0 1.02-.2 1.41-.59l7.78-7.78 2.81-2.81c.8-.78.8-2.07 0-2.86zM5.41 20L4 18.59l7.72-7.72 1.47 1.35L5.41 20z\"/>\n",
              "  </svg>\n",
              "      </button>\n",
              "      \n",
              "  <style>\n",
              "    .colab-df-container {\n",
              "      display:flex;\n",
              "      flex-wrap:wrap;\n",
              "      gap: 12px;\n",
              "    }\n",
              "\n",
              "    .colab-df-convert {\n",
              "      background-color: #E8F0FE;\n",
              "      border: none;\n",
              "      border-radius: 50%;\n",
              "      cursor: pointer;\n",
              "      display: none;\n",
              "      fill: #1967D2;\n",
              "      height: 32px;\n",
              "      padding: 0 0 0 0;\n",
              "      width: 32px;\n",
              "    }\n",
              "\n",
              "    .colab-df-convert:hover {\n",
              "      background-color: #E2EBFA;\n",
              "      box-shadow: 0px 1px 2px rgba(60, 64, 67, 0.3), 0px 1px 3px 1px rgba(60, 64, 67, 0.15);\n",
              "      fill: #174EA6;\n",
              "    }\n",
              "\n",
              "    [theme=dark] .colab-df-convert {\n",
              "      background-color: #3B4455;\n",
              "      fill: #D2E3FC;\n",
              "    }\n",
              "\n",
              "    [theme=dark] .colab-df-convert:hover {\n",
              "      background-color: #434B5C;\n",
              "      box-shadow: 0px 1px 3px 1px rgba(0, 0, 0, 0.15);\n",
              "      filter: drop-shadow(0px 1px 2px rgba(0, 0, 0, 0.3));\n",
              "      fill: #FFFFFF;\n",
              "    }\n",
              "  </style>\n",
              "\n",
              "      <script>\n",
              "        const buttonEl =\n",
              "          document.querySelector('#df-257cb0e2-f9b2-4a3c-89e6-e345b266d37e button.colab-df-convert');\n",
              "        buttonEl.style.display =\n",
              "          google.colab.kernel.accessAllowed ? 'block' : 'none';\n",
              "\n",
              "        async function convertToInteractive(key) {\n",
              "          const element = document.querySelector('#df-257cb0e2-f9b2-4a3c-89e6-e345b266d37e');\n",
              "          const dataTable =\n",
              "            await google.colab.kernel.invokeFunction('convertToInteractive',\n",
              "                                                     [key], {});\n",
              "          if (!dataTable) return;\n",
              "\n",
              "          const docLinkHtml = 'Like what you see? Visit the ' +\n",
              "            '<a target=\"_blank\" href=https://colab.research.google.com/notebooks/data_table.ipynb>data table notebook</a>'\n",
              "            + ' to learn more about interactive tables.';\n",
              "          element.innerHTML = '';\n",
              "          dataTable['output_type'] = 'display_data';\n",
              "          await google.colab.output.renderOutput(dataTable, element);\n",
              "          const docLink = document.createElement('div');\n",
              "          docLink.innerHTML = docLinkHtml;\n",
              "          element.appendChild(docLink);\n",
              "        }\n",
              "      </script>\n",
              "    </div>\n",
              "  </div>\n",
              "  "
            ],
            "text/plain": [
              "         budget  popularity     revenue      profit  sum_vote  year  \\\n",
              "0     237000000  150.437577  2787965087  2550965087   84960.0  2009   \n",
              "1     300000000  139.082615   961000000   661000000   31050.0  2007   \n",
              "2     245000000  107.376788   880674609   635674609   28135.8  2015   \n",
              "3     250000000  112.312950  1084939099   834939099   69205.6  2012   \n",
              "4     260000000   43.926995   284139100    24139100   12956.4  2012   \n",
              "...         ...         ...         ...         ...       ...   ...   \n",
              "1149   20000000    0.053755    36642838    16642838       5.0  2013   \n",
              "1150   20000000    0.003582    36642838    16642838       0.0  2007   \n",
              "1151      31192    1.330379       10000      -21192     163.8  2009   \n",
              "1152   20000000    7.101197    36642838    16642838     786.0  2009   \n",
              "1153     220000   14.269792     2040920     1820920    1570.8  1992   \n",
              "\n",
              "     original_language  og_cn  og_de  og_en  ...  og_ja  og_ko  og_ky  og_pt  \\\n",
              "0                   en      0      0      1  ...      0      0      0      0   \n",
              "1                   en      0      0      1  ...      0      0      0      0   \n",
              "2                   en      0      0      1  ...      0      0      0      0   \n",
              "3                   en      0      0      1  ...      0      0      0      0   \n",
              "4                   en      0      0      1  ...      0      0      0      0   \n",
              "...                ...    ...    ...    ...  ...    ...    ...    ...    ...   \n",
              "1149                en      0      0      1  ...      0      0      0      0   \n",
              "1150                en      0      0      1  ...      0      0      0      0   \n",
              "1151                en      0      0      1  ...      0      0      0      0   \n",
              "1152                en      0      0      1  ...      0      0      0      0   \n",
              "1153                es      0      0      0  ...      0      0      0      0   \n",
              "\n",
              "      og_ru  og_sv  og_te  og_th  og_tr  og_zh  \n",
              "0         0      0      0      0      0      0  \n",
              "1         0      0      0      0      0      0  \n",
              "2         0      0      0      0      0      0  \n",
              "3         0      0      0      0      0      0  \n",
              "4         0      0      0      0      0      0  \n",
              "...     ...    ...    ...    ...    ...    ...  \n",
              "1149      0      0      0      0      0      0  \n",
              "1150      0      0      0      0      0      0  \n",
              "1151      0      0      0      0      0      0  \n",
              "1152      0      0      0      0      0      0  \n",
              "1153      0      0      0      0      0      0  \n",
              "\n",
              "[1154 rows x 25 columns]"
            ]
          },
          "execution_count": 22,
          "metadata": {},
          "output_type": "execute_result"
        }
      ],
      "source": [
        "#One-Hot encoding original_language\n",
        "ActionDF = ActionDF.join(pd.get_dummies(ActionDF.original_language, prefix='og'))\n",
        "ActionDF\n"
      ]
    },
    {
      "cell_type": "code",
      "execution_count": null,
      "metadata": {
        "id": "YVWMGgZhC0Dh",
        "vscode": {
          "languageId": "python"
        }
      },
      "outputs": [],
      "source": [
        "import sklearn.metrics as sm\n",
        "def metrics(y_test,y_pred):\n",
        "  print(\"Mean absolute error =\", round(sm.mean_absolute_error(y_test, y_pred), 2)) \n",
        "  print(\"Mean squared error =\", round(sm.mean_squared_error(y_test, y_pred), 2)) \n",
        "  print(\"Median absolute error =\", round(sm.median_absolute_error(y_test, y_pred), 2)) \n",
        "  print(\"Explain variance score =\", round(sm.explained_variance_score(y_test, y_pred), 2)) \n",
        "  print(\"R2 score =\", round(sm.r2_score(y_test, y_pred), 2))"
      ]
    },
    {
      "cell_type": "code",
      "execution_count": null,
      "metadata": {
        "colab": {
          "base_uri": "https://localhost:8080/"
        },
        "id": "tB9zYL6Hnw6t",
        "outputId": "ca05cc5b-0e38-489b-f7bb-9b7beb6f3eb6",
        "vscode": {
          "languageId": "python"
        }
      },
      "outputs": [
        {
          "name": "stdout",
          "output_type": "stream",
          "text": [
            "Mean absolute error = 64301907.56\n",
            "Mean squared error = 1.066673256820443e+16\n",
            "Median absolute error = 42204292.04\n",
            "Explain variance score = 0.81\n",
            "R2 score = 0.81\n"
          ]
        }
      ],
      "source": [
        "from sklearn.linear_model import LinearRegression,Ridge,Lasso,ElasticNet\n",
        "from sklearn.ensemble import RandomForestRegressor\n",
        "from sklearn.model_selection import train_test_split\n",
        "import math\n",
        "\n",
        "#the addition of original_language does not change the R2 score at all\n",
        "X = ActionDF[[\"budget\", \"popularity\", \"year\", \"sum_vote\", \"og_cn\",\t\"og_de\",\t\"og_en\",\t\"og_es\",\t\"og_fr\",\t\"og_hi\",\t\"og_id\",\t\"og_it\",\t\"og_ja\",\t\"og_ko\",\t\"og_ky\",\t\"og_pt\",\t\"og_ru\",\t\"og_sv\",\t\"og_te\",\t\"og_th\",\t\"og_tr\",\t\"og_zh\"]].values\n",
        "y = ActionDF[\"revenue\"].values\n",
        "X_train, X_test, y_train, y_test = train_test_split(X, y, test_size=0.20)\n",
        "\n",
        "#Create an object called regressor in the LinearRegression class…\n",
        "regressor = LinearRegression()\n",
        "#Fit the linear regression model to the training set… We use the fit #method the arguments of the fit method will be training sets\n",
        "regressor.fit(X_train,y_train)\n",
        "# Predicting the Test set results:\n",
        "y_pred= regressor.predict(X_test)\n",
        "metrics(y_test,y_pred)"
      ]
    },
    {
      "cell_type": "markdown",
      "metadata": {
        "id": "mURCt3xgGjlT"
      },
      "source": [
        "In linear regression the numbers given directly to inside. We can do it by two regression models. Lasso and Ridge. Both of them normalise the numbers and gives number as normalized.In Ridge there is a hyper parameter named alfa. When we determined alfa as 1 we took 0.72 score. When we give smaller values to alfa hyperparameter our score increase to 0.73. Also we tried the elasticnet regression model which is a composite version of Ridge and Lasso. It also gives 0.73 score. The last model we tried is Random Forest Regressor which gives smaller score but also smaller eror than the other two models"
      ]
    },
    {
      "cell_type": "code",
      "execution_count": null,
      "metadata": {
        "colab": {
          "base_uri": "https://localhost:8080/"
        },
        "id": "hUJH_GMbmihF",
        "outputId": "6b4ba286-26eb-468f-afb6-85587c8b2cda",
        "vscode": {
          "languageId": "python"
        }
      },
      "outputs": [
        {
          "name": "stdout",
          "output_type": "stream",
          "text": [
            "Mean absolute error = 64302202.55\n",
            "Mean squared error = 1.0666748639150164e+16\n",
            "Median absolute error = 42204292.04\n",
            "Explain variance score = 0.81\n",
            "R2 score = 0.81\n"
          ]
        },
        {
          "name": "stderr",
          "output_type": "stream",
          "text": [
            "/usr/local/lib/python3.7/dist-packages/sklearn/linear_model/_base.py:145: FutureWarning: 'normalize' was deprecated in version 1.0 and will be removed in 1.2.\n",
            "If you wish to scale the data, use Pipeline with a StandardScaler in a preprocessing stage. To reproduce the previous behavior:\n",
            "\n",
            "from sklearn.pipeline import make_pipeline\n",
            "\n",
            "model = make_pipeline(StandardScaler(with_mean=False), Lasso())\n",
            "\n",
            "If you wish to pass a sample_weight parameter, you need to pass it as a fit parameter to each step of the pipeline as follows:\n",
            "\n",
            "kwargs = {s[0] + '__sample_weight': sample_weight for s in model.steps}\n",
            "model.fit(X, y, **kwargs)\n",
            "\n",
            "Set parameter alpha to: original_alpha * np.sqrt(n_samples). \n",
            "  FutureWarning,\n",
            "/usr/local/lib/python3.7/dist-packages/sklearn/linear_model/_coordinate_descent.py:648: ConvergenceWarning: Objective did not converge. You might want to increase the number of iterations, check the scale of the features or consider increasing regularisation. Duality gap: 4.268e+17, tolerance: 4.637e+15\n",
            "  coef_, l1_reg, l2_reg, X, y, max_iter, tol, rng, random, positive\n"
          ]
        }
      ],
      "source": [
        "lasso = Lasso(alpha=0.00000001,normalize=True,max_iter=100)\n",
        "lasso.fit(X_train,y_train)\n",
        "metrics(y_test,lasso.predict(X_test))"
      ]
    },
    {
      "cell_type": "code",
      "execution_count": null,
      "metadata": {
        "colab": {
          "base_uri": "https://localhost:8080/"
        },
        "id": "59sFdkshqE13",
        "outputId": "cb5b03b4-5dd7-4c56-a69d-0635acec6383",
        "vscode": {
          "languageId": "python"
        }
      },
      "outputs": [
        {
          "name": "stdout",
          "output_type": "stream",
          "text": [
            "Mean absolute error = 69126355.19\n",
            "Mean squared error = 1.3374366322169762e+16\n",
            "Median absolute error = 41409006.37\n",
            "Explain variance score = 0.76\n",
            "R2 score = 0.76\n"
          ]
        },
        {
          "name": "stderr",
          "output_type": "stream",
          "text": [
            "/usr/local/lib/python3.7/dist-packages/sklearn/linear_model/_base.py:145: FutureWarning: 'normalize' was deprecated in version 1.0 and will be removed in 1.2.\n",
            "If you wish to scale the data, use Pipeline with a StandardScaler in a preprocessing stage. To reproduce the previous behavior:\n",
            "\n",
            "from sklearn.pipeline import make_pipeline\n",
            "\n",
            "model = make_pipeline(StandardScaler(with_mean=False), Ridge())\n",
            "\n",
            "If you wish to pass a sample_weight parameter, you need to pass it as a fit parameter to each step of the pipeline as follows:\n",
            "\n",
            "kwargs = {s[0] + '__sample_weight': sample_weight for s in model.steps}\n",
            "model.fit(X, y, **kwargs)\n",
            "\n",
            "Set parameter alpha to: original_alpha * n_samples. \n",
            "  FutureWarning,\n"
          ]
        }
      ],
      "source": [
        "ridge = Ridge(alpha=1,normalize=True)\n",
        "ridge.fit(X_train,y_train)\n",
        "metrics(y_test,ridge.predict(X_test))"
      ]
    },
    {
      "cell_type": "code",
      "execution_count": null,
      "metadata": {
        "colab": {
          "base_uri": "https://localhost:8080/"
        },
        "id": "o86QM8bUqL3O",
        "outputId": "3ba9c1cb-fe0a-4aa3-a71a-6d8225483956",
        "vscode": {
          "languageId": "python"
        }
      },
      "outputs": [
        {
          "name": "stdout",
          "output_type": "stream",
          "text": [
            "Mean absolute error = 64330044.82\n",
            "Mean squared error = 1.066844498946907e+16\n",
            "Median absolute error = 42204283.58\n",
            "Explain variance score = 0.81\n",
            "R2 score = 0.81\n"
          ]
        },
        {
          "name": "stderr",
          "output_type": "stream",
          "text": [
            "/usr/local/lib/python3.7/dist-packages/sklearn/linear_model/_base.py:145: FutureWarning: 'normalize' was deprecated in version 1.0 and will be removed in 1.2.\n",
            "If you wish to scale the data, use Pipeline with a StandardScaler in a preprocessing stage. To reproduce the previous behavior:\n",
            "\n",
            "from sklearn.pipeline import make_pipeline\n",
            "\n",
            "model = make_pipeline(StandardScaler(with_mean=False), Ridge())\n",
            "\n",
            "If you wish to pass a sample_weight parameter, you need to pass it as a fit parameter to each step of the pipeline as follows:\n",
            "\n",
            "kwargs = {s[0] + '__sample_weight': sample_weight for s in model.steps}\n",
            "model.fit(X, y, **kwargs)\n",
            "\n",
            "Set parameter alpha to: original_alpha * n_samples. \n",
            "  FutureWarning,\n"
          ]
        }
      ],
      "source": [
        "ridge = Ridge(alpha=0.0000001,normalize=True)\n",
        "ridge.fit(X_train,y_train)\n",
        "metrics(y_test,ridge.predict(X_test))"
      ]
    },
    {
      "cell_type": "code",
      "execution_count": null,
      "metadata": {
        "colab": {
          "base_uri": "https://localhost:8080/"
        },
        "id": "MIHquh8EqOmO",
        "outputId": "f3b1e2aa-bc69-415d-9d04-f9d30177a7db",
        "vscode": {
          "languageId": "python"
        }
      },
      "outputs": [
        {
          "name": "stdout",
          "output_type": "stream",
          "text": [
            "Mean absolute error = 64302350.62\n",
            "Mean squared error = 1.066668840269934e+16\n",
            "Median absolute error = 42203902.48\n",
            "Explain variance score = 0.81\n",
            "R2 score = 0.81\n"
          ]
        },
        {
          "name": "stderr",
          "output_type": "stream",
          "text": [
            "/usr/local/lib/python3.7/dist-packages/sklearn/linear_model/_base.py:145: FutureWarning: 'normalize' was deprecated in version 1.0 and will be removed in 1.2.\n",
            "If you wish to scale the data, use Pipeline with a StandardScaler in a preprocessing stage. To reproduce the previous behavior:\n",
            "\n",
            "from sklearn.pipeline import make_pipeline\n",
            "\n",
            "model = make_pipeline(StandardScaler(with_mean=False), ElasticNet())\n",
            "\n",
            "If you wish to pass a sample_weight parameter, you need to pass it as a fit parameter to each step of the pipeline as follows:\n",
            "\n",
            "kwargs = {s[0] + '__sample_weight': sample_weight for s in model.steps}\n",
            "model.fit(X, y, **kwargs)\n",
            "\n",
            "Set parameter alpha to original_alpha * np.sqrt(n_samples) if l1_ratio is 1, and to original_alpha * n_samples if l1_ratio is 0. For other values of l1_ratio, no analytic formula is available.\n",
            "  FutureWarning,\n",
            "/usr/local/lib/python3.7/dist-packages/sklearn/linear_model/_coordinate_descent.py:648: ConvergenceWarning: Objective did not converge. You might want to increase the number of iterations, check the scale of the features or consider increasing regularisation. Duality gap: 6.063e+18, tolerance: 4.637e+15\n",
            "  coef_, l1_reg, l2_reg, X, y, max_iter, tol, rng, random, positive\n"
          ]
        }
      ],
      "source": [
        "elasticnet = ElasticNet(alpha=0.00000001,normalize=True)\n",
        "elasticnet.fit(X_train,y_train)\n",
        "metrics(y_test,elasticnet.predict(X_test))"
      ]
    },
    {
      "cell_type": "code",
      "execution_count": null,
      "metadata": {
        "colab": {
          "base_uri": "https://localhost:8080/"
        },
        "id": "DvowFwmdqmQc",
        "outputId": "565f9931-d774-435a-cc68-52abb3ac3699",
        "vscode": {
          "languageId": "python"
        }
      },
      "outputs": [
        {
          "name": "stdout",
          "output_type": "stream",
          "text": [
            "Mean absolute error = 55674059.37\n",
            "Mean squared error = 1.2650913987770852e+16\n",
            "Median absolute error = 22548426.92\n",
            "Explain variance score = 0.78\n",
            "R2 score = 0.78\n"
          ]
        }
      ],
      "source": [
        "rfr = RandomForestRegressor()\n",
        "rfr.fit(X_train,y_train)\n",
        "metrics(y_test,rfr.predict(X_test))"
      ]
    },
    {
      "cell_type": "markdown",
      "metadata": {
        "id": "iseesP0wQS0q"
      },
      "source": [
        "KNN"
      ]
    },
    {
      "cell_type": "code",
      "execution_count": null,
      "metadata": {
        "id": "zUURFovfO0sM",
        "vscode": {
          "languageId": "python"
        }
      },
      "outputs": [],
      "source": [
        "from sklearn.model_selection import train_test_split\n",
        "from sklearn.model_selection import cross_val_score\n",
        "from sklearn.preprocessing import StandardScaler\n",
        "from sklearn.metrics import accuracy_score\n",
        "from sklearn.neighbors import KNeighborsClassifier\n",
        "from sklearn.model_selection import cross_val_score\n",
        "from statistics import mean, stdev\n",
        "import math\n",
        "\n",
        "# k values\n",
        "kVals = [5,10,15,20,25,30,45,50]\n",
        "\n",
        "# Save the accuracies of each value of kVal in [accuracies] variable\n",
        "accuracies = []\n",
        "std=[]\n",
        "\n",
        "X = ActionDF[[\"budget\", \"popularity\", \"revenue\", \"profit\", \"year\"]].values\n",
        "y = ActionDF[[\"revenue\"]].values\n",
        "y=y.squeeze()\n",
        "X_train, X_test, y_train, y_test = train_test_split(X, y, test_size = 0.20, random_state =90)\n",
        "\n",
        "#scaling features\n",
        "sc_X = StandardScaler()\n",
        "X_train = sc_X.fit_transform(X_train)\n",
        "X_test = sc_X.transform(X_test)\n",
        "\n",
        "for k in kVals:\n",
        "\n",
        "#define model : Init K-NN\n",
        "  classifier = KNeighborsClassifier(n_neighbors= k, metric = 'euclidean')\n",
        "  classifier.fit(X_train, y_train)\n",
        "\n",
        "  scores =  cross_val_score(classifier,X_train, y_train,cv=5)\n",
        "  accuracies.append(mean(scores)) \n",
        "  std.append(stdev(scores))\n",
        "\n",
        "y_pred = classifier.predict(X_test)\n",
        "\n",
        "\n",
        "\n"
      ]
    },
    {
      "cell_type": "code",
      "execution_count": null,
      "metadata": {
        "colab": {
          "base_uri": "https://localhost:8080/"
        },
        "id": "kZA4GXFoNLj9",
        "outputId": "0eca1067-a170-41a7-f567-fcbbed816133",
        "vscode": {
          "languageId": "python"
        }
      },
      "outputs": [
        {
          "name": "stdout",
          "output_type": "stream",
          "text": [
            "Mean absolute error = 88669601.04\n",
            "Mean squared error = 3.971452554179386e+16\n",
            "Median absolute error = 33540288.0\n",
            "Explain variance score = 0.53\n",
            "R2 score = 0.44\n",
            "accuracy score = 0.2077922077922078\n",
            "accuracy scores of train datas when n_neighbors={5,10,15,20,25,30,45,50} = [0.15927144535840188, 0.1657755581668625, 0.16901880141010575, 0.17551703877790834, 0.17659811985898943, 0.17659811985898943, 0.1776792009400705, 0.17876615746180963]\n"
          ]
        }
      ],
      "source": [
        "\n",
        "import sklearn.metrics as sm\n",
        "\n",
        "print(\"Mean absolute error =\", round(sm.mean_absolute_error(y_test, y_pred), 2)) \n",
        "print(\"Mean squared error =\", round(sm.mean_squared_error(y_test, y_pred), 2)) \n",
        "print(\"Median absolute error =\", round(sm.median_absolute_error(y_test, y_pred), 2)) \n",
        "print(\"Explain variance score =\", round(sm.explained_variance_score(y_test, y_pred), 2)) \n",
        "print(\"R2 score =\", round(sm.r2_score(y_test, y_pred), 2))\n",
        "print(\"accuracy score =\",accuracy_score(y_test, y_pred))\n",
        "\n",
        "print(\"accuracy scores of train datas when n_neighbors={5,10,15,20,25,30,45,50} =\",accuracies)\n",
        "\n"
      ]
    },
    {
      "cell_type": "markdown",
      "metadata": {
        "id": "l4MtFOqW4jdQ"
      },
      "source": [
        "### Results & Discussion\n"
      ]
    },
    {
      "cell_type": "markdown",
      "metadata": {
        "id": "IWhKCL8-EJ7u"
      },
      "source": [
        "KNN is a machine learning algorithm that works on a principle that assumes that every data point falling close to each other falls into the same class, and in this use, it classifies by looking at the closest 50 neighbors. The results we got from the use of the KNN algorithm on data in the action movies category showed that the mean absolute error  is 88774435.8, the mean squared error  is 3.973743904341049e + 16, the median absolute error  is 33540288.0, the explain variance score  is 0.53, and the accuracy score is 0.44.The accuracy value of the KNN algorithm is less than the expectations, it needs cross validation to find the optimal k value, and therefore the code run time is getting long."
      ]
    },
    {
      "cell_type": "markdown",
      "metadata": {
        "id": "qSYtJDhs0ist"
      },
      "source": [
        "We were pretty sure from the start thatlinear regression was going to be the most accurate method, among the ones we have learned. Regression searches for relationships among variables, and since finding how several variables are related is our goal, we knew that's what we had to do.\n",
        "\n",
        "We wanted to observe how genre, budget, popularity, language and votes affected the profit, and if it could be predicted. But rather than one-hot encoding the genres, like we did to original_language, we seperated the data using genres. If you wanted to predict an action movie, there is a specific dataframe you should use, that is created above, and this goes for all 20 genres.\n",
        "\n",
        "Linear Regression yielded the predictions like we knew it would, in some cases, having an R2 score of 0.82 which is the best we have seen, even though it usually ranges from 0.65 to 0.80. An example of the possible mean errors, variance scores and R2s are demonstrated above."
      ]
    },
    {
      "cell_type": "markdown",
      "metadata": {
        "id": "L8mRHzGc4SH0"
      },
      "source": [
        "## Conclusion\n"
      ]
    },
    {
      "cell_type": "markdown",
      "metadata": {
        "id": "tV9dJF8_DwXI"
      },
      "source": [
        "As a conclusion by the help of our machine learning model we can see that our dataset is applicable. By using linear regression we are able to compute and make assumptions by our machine learning model. As you can see above we have tried many different types of machine learning models even if we were able to run them regression model have provided us better solution. Even if by this dataset we are able to build a machine learning model, this models are the highest accuracies we can take. As we have mentioned in previous parts that the concerns about the correctness of our dataset, without updating the dataset to better version this results are the best we can ever have."
      ]
    },
    {
      "cell_type": "markdown",
      "metadata": {
        "id": "8h0G5RNzuABB"
      },
      "source": [
        "## Future Work\n",
        "\n"
      ]
    },
    {
      "cell_type": "markdown",
      "metadata": {
        "id": "Uqh-f2swcRkP"
      },
      "source": [
        "While creating prediction, multiple regression was used. But prediction is higher than expected prediction due to a problem we could not identify. 2 different ways can be followed to prevent this error; one of the ways is to identify and solve the problem while multiple regression used or using another machine learning algorithm might solve that error. \n",
        "\n",
        "As we mentioned in earlier stages of our project, our dataset has many NA values even if those data are not NA. If we would update those values in our dataset we believe that our machine learning model can give us better solutions and by this way we can be more sure about the correctness of our dataset. "
      ]
    },
    {
      "cell_type": "markdown",
      "metadata": {
        "id": "aw-zON5bt0pd"
      },
      "source": [
        "## Work Division\n",
        "\n"
      ]
    },
    {
      "cell_type": "markdown",
      "metadata": {
        "id": "KG2D5atrg1Pb"
      },
      "source": [
        "While doing the project, all group members worked together. With meetings held occasionally, the codes that everyone wrote during the day were evaluated and the most efficient ones were selected and added to the project. Instead of dividing all parts of the project, all members worked together in harmony, as we thought that it would be more beneficial for all members in the group to produce a solution in terms of better learning."
      ]
    }
  ],
  "metadata": {
    "colab": {
      "collapsed_sections": [],
      "name": "Copy of Proposal",
      "provenance": [],
      "toc_visible": true
    },
    "kernelspec": {
      "display_name": "Python 3",
      "name": "python3"
    }
  },
  "nbformat": 4,
  "nbformat_minor": 0
}
