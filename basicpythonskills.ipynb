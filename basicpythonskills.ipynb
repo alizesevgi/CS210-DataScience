{
  "nbformat": 4,
  "nbformat_minor": 0,
  "metadata": {
    "colab": {
      "name": "Yalcinkaya_Alize_hw1.ipynb",
      "provenance": [],
      "collapsed_sections": []
    },
    "kernelspec": {
      "name": "python3",
      "display_name": "Python 3"
    }
  },
  "cells": [
    {
      "cell_type": "markdown",
      "metadata": {
        "id": "JD9gUM7WW8iT"
      },
      "source": [
        "# Homework 1: Strecthing Python Muscles\n",
        "\n",
        "\n",
        "*In the first homework, you are going to work on a set of Python exercises.*\n",
        "\n",
        "**Submission Instructions**\n",
        "\n",
        "---\n",
        "It is important that you follow the submission instructions. \n",
        "1. Copy this assignment notebook to your Drive. <font color = 'red'> `File` --> `Save a copy in Drive`</font>. Rename it as <font color = 'green'>`Lastname_Firstname_hw1`</font>.\n",
        "\n",
        "2. Write your solutions in the cells  marked <font color = 'green'>`# your code`</font>.\n",
        "\n",
        "3. Do not delete your outputs. They are essential for the grading. Make sure that cells containing your solutions are executed, and the results are displayed on the notebook.\n",
        "\n",
        "4. When you're done please submit your solutions as an <font color=\"red\">`.ipynb`</font> file. To do so:\n",
        "\n",
        "\n",
        "1.  Click on <font color=\"red\">`File`</font>  at the top left on the Colab screen, then click on <font color = 'red'>`Download .ipynb`</font>.\n",
        "2.   Then submit the downloaded <font color=\"red\">`.ipynb`</font> version of your work on SUCourse.\n",
        "\n",
        "\n",
        "For any question, you may send an email to the TAs and LAs.\n",
        "\n",
        "---\n",
        "\n",
        "**Important Note:**   \n",
        "In this homework, you are not allowed to use any libraries other than [`random`](https://docs.python.org/3/library/random.html). In addition, you may also use the [`pprint`](https://docs.python.org/3/library/pprint.html) library to produce better looking outputs."
      ]
    },
    {
      "cell_type": "code",
      "metadata": {
        "id": "sy9DCSxxR6EI",
        "outputId": "be728d6a-0eaa-4843-a785-1fa5b6815836",
        "colab": {
          "base_uri": "https://localhost:8080/",
          "height": 34
        }
      },
      "source": [
        "# execute this cell to authorize the notebook\n",
        "from google.colab import drive\n",
        "drive.mount(\"./drive\", force_remount=True)"
      ],
      "execution_count": null,
      "outputs": [
        {
          "output_type": "stream",
          "text": [
            "Mounted at ./drive\n"
          ],
          "name": "stdout"
        }
      ]
    },
    {
      "cell_type": "code",
      "metadata": {
        "id": "Y6P1qBuiSrF6",
        "outputId": "6d9fd6d5-36ef-406c-90e4-3d322874398d",
        "colab": {
          "base_uri": "https://localhost:8080/",
          "height": 51
        }
      },
      "source": [
        "!ls\n",
        "!ls drive"
      ],
      "execution_count": null,
      "outputs": [
        {
          "output_type": "stream",
          "text": [
            "drive  hamlet.txt  sample_data\tteaching_survey.csv\n",
            "'My Drive'  'Shared drives'\n"
          ],
          "name": "stdout"
        }
      ]
    },
    {
      "cell_type": "markdown",
      "metadata": {
        "id": "DwskSV1dAeoR"
      },
      "source": [
        "## Q2: Teaching Survey\n",
        "\n",
        "In a survey conducted by the student resources, each student was asked whether they think online or offline education is more effective. The student responses are recorded in a file named `teaching_survey.csv`. Each line contains the response of a particular student and contains her/his major alongside her answer separated by a comma.\n",
        "\n",
        "In total, we have 1020 students; 800 CS, 140 ME and 80 BIO students.\n",
        "\n",
        "![](https://i.ibb.co/p4JJq1h/ss.png)\n",
        "\n",
        "*Do not forget to add the shared file and then mount to your drive. Otherwise, you won't be able to read the file.*\n"
      ]
    },
    {
      "cell_type": "code",
      "metadata": {
        "id": "hTRgKnNeve9l"
      },
      "source": [
        ""
      ],
      "execution_count": null,
      "outputs": []
    },
    {
      "cell_type": "markdown",
      "metadata": {
        "id": "EJdIEenmj6W_"
      },
      "source": [
        "#### Part A\n",
        "\n",
        "Read the provided file and select 60 random student responses. Calculate the percentage of students in the sample that thinks online teaching is more effective.\n",
        "\n",
        "![](https://i.ibb.co/n0x1xFN/sample60.png)\n"
      ]
    },
    {
      "cell_type": "code",
      "metadata": {
        "id": "tbaryKClTz5Z"
      },
      "source": [
        "from google.colab import drive\n",
        "drive.mount(\"./drive/\", force_remount=True)"
      ],
      "execution_count": null,
      "outputs": []
    },
    {
      "cell_type": "code",
      "metadata": {
        "id": "NnRDeA3_SPi0",
        "outputId": "d7a983ae-8c1b-4643-ab1c-34c38f73b9e3",
        "colab": {
          "base_uri": "https://localhost:8080/",
          "height": 34
        }
      },
      "source": [
        "# your code\n",
        "\n",
        "\n",
        "from random import sample\n",
        "with open(\"./drive/My Drive/teaching_survey.csv\", \"rt\") as studentfile:\n",
        "  contents=list(studentfile)\n",
        "  \n",
        "contentsample= sample(contents,60)\n",
        "count = 0\n",
        "for i in contentsample:\n",
        "    if(i.count(\"online\")==1):\n",
        "      count = count + 1\n",
        "print((100*count)/60)"
      ],
      "execution_count": null,
      "outputs": [
        {
          "output_type": "stream",
          "text": [
            "41.666666666666664\n"
          ],
          "name": "stdout"
        }
      ]
    },
    {
      "cell_type": "markdown",
      "metadata": {
        "id": "pIBUWMoXSSwr"
      },
      "source": [
        "#### Part B\n",
        "\n",
        "This time you will apply stratified sampling. Sample 20 student reponses  from each major (60 in total) and  then recalculate the percentage of students in the sample that thinks online teaching is more effective. Report this number. Do you see a diffference? Why is that? Do you think it is enough to draw a random sample once.\n",
        "\n",
        "\n",
        "\n",
        "![](https://i.ibb.co/6Fg0TtW/eqaul-Sample.png)"
      ]
    },
    {
      "cell_type": "code",
      "metadata": {
        "id": "laBFy2HkSXpC",
        "outputId": "23bdc5c5-943f-4f66-999c-04dcb8239666",
        "colab": {
          "base_uri": "https://localhost:8080/",
          "height": 34
        }
      },
      "source": [
        "# your code\n",
        "CSstudents = []\n",
        "BIOstudents = []\n",
        "MEstudents = []\n",
        "for x in contents:\n",
        "  if(x.count(\"CS\")== 1):\n",
        "    CSstudents.append(x)\n",
        "  elif(x.count(\"ME\") == 1):\n",
        "    MEstudents.append(x)\n",
        "  elif(x.count(\"BIO\") == 1):\n",
        "    BIOstudents.append(x)\n",
        "\n",
        "count2 = 0\n",
        "samplelist= sample(CSstudents,20) + sample(MEstudents,20) + sample(BIOstudents,20)\n",
        "for i in samplelist:\n",
        "    if(i.count(\"online\")==1):\n",
        "      count2 = count2 + 1\n",
        "print((100*count2)/60)\n",
        "\n",
        "#this number is usually lower bc the number of students in each major isn't the same so the percentage changes for random 60. \n",
        "#Drawing a random sample once is clearly NOT enough because the results varied every time I ran my code.\n"
      ],
      "execution_count": null,
      "outputs": [
        {
          "output_type": "stream",
          "text": [
            "23.333333333333332\n"
          ],
          "name": "stdout"
        }
      ]
    },
    {
      "cell_type": "markdown",
      "metadata": {
        "id": "HMa35yitTrzR"
      },
      "source": [
        "<font color=\"blue\">[Double Click to insert your comment]</font>"
      ]
    },
    {
      "cell_type": "markdown",
      "metadata": {
        "id": "srIzF7eJYUAW"
      },
      "source": [
        "## Q3: List Reshaping\n",
        "\n",
        "List/array reshaping is one of the most fundamental operations in data manipulation. In the figure below, you see a single dimensional (1D) list named `arr` that contains integers from 1 to 6. We can cast this 1D list into a matrix as well. \n",
        "\n",
        "![](https://cdn.discordapp.com/attachments/715265876810530846/764191117067026472/list_to_matrix2.png)\n",
        "\n",
        "By referencing the figure above, write a function named `list_to_matrix` which will take a single dimensional list and two integers representing the shape of the desired matrix. At the end, it should return the resulting matrix.\n",
        "\n",
        "If the given number of rows and columns are not compatible with the number of elements, then print a warning and return `None`.\n",
        "\n",
        "```py\n",
        ">>> arr = [i for i in range(30)]\n",
        ">>> list_to_matrix(arr, 5, 6)\n",
        "[[0, 1, 2, 3, 4, 5],\n",
        " [6, 7, 8, 9, 10, 11],\n",
        " [12, 13, 14, 15, 16, 17],\n",
        " [18, 19, 20, 21, 22, 23],\n",
        " [24, 25, 26, 27, 28, 29]]\n",
        "\n",
        ">>> list_to_matrix(arr, 5, 4)  # will give a warning\n",
        "                               # because we can't place 30 elements\n",
        "                               # in a 5x4 matrix\n",
        "\"Uncompatible Shapes\"\n",
        "```"
      ]
    },
    {
      "cell_type": "code",
      "metadata": {
        "id": "iZgKbmvbZM61",
        "outputId": "bb76c33e-c3c8-46dd-8fe4-5f6680e43d03",
        "colab": {
          "base_uri": "https://localhost:8080/",
          "height": 51
        }
      },
      "source": [
        "arr = [i for i in range(30)]\n",
        "\n",
        "# your code\n",
        "\n",
        "def list_to_matrix(arraylist, row, col):\n",
        "\n",
        "  perm = []\n",
        "  if col*row != len(arraylist):\n",
        "    print(\"Uncompatible Shapes\")\n",
        "    return None\n",
        "  else:\n",
        "    \n",
        "    temp = [] \n",
        "    count = 0\n",
        "    for i in arraylist:\n",
        "      temp.append(i)\n",
        "      count = count + 1\n",
        "      if (count == col):      \n",
        "        perm.append(list(temp))\n",
        "        count = 0\n",
        "        temp.clear()\n",
        "  for row in perm:\n",
        "    print(row)\n",
        "  return perm \n",
        "\n",
        "\n",
        "      \n",
        "      \n",
        "\n",
        "#newlist = list_to_matrix(arr, 2, 15)\n",
        "\n",
        "\n",
        "\n",
        "\n",
        "\n",
        "\n"
      ],
      "execution_count": null,
      "outputs": [
        {
          "output_type": "stream",
          "text": [
            "[0, 1, 2, 3, 4, 5, 6, 7, 8, 9, 10, 11, 12, 13, 14]\n",
            "[15, 16, 17, 18, 19, 20, 21, 22, 23, 24, 25, 26, 27, 28, 29]\n"
          ],
          "name": "stdout"
        }
      ]
    },
    {
      "cell_type": "markdown",
      "metadata": {
        "id": "_0FzjI4Li18J"
      },
      "source": [
        "## Q4: Longest Word in a File\n",
        "\n",
        "In the shared assignment folder, you have a file named `hamlet.txt` which stores the famous play written by William Shakespeare.\n",
        "\n",
        "Write a function named `longest_word` which will take a file name as it's single parameter and then reads and returns the longest word from that file.\n",
        "\n",
        "```py\n",
        ">>> longest_word(\"hamlet.txt\")\n",
        "```\n",
        "\n",
        "*Do not forget to add the shared file and then mount to your drive. Otherwise, you won't be able to read the file.*"
      ]
    },
    {
      "cell_type": "code",
      "metadata": {
        "id": "DEQOU3viZAfj",
        "outputId": "f83b4343-bd38-4f28-e8ed-09dd616f8c90",
        "colab": {
          "base_uri": "https://localhost:8080/",
          "height": 34
        }
      },
      "source": [
        "# Your code\n",
        "longestword = \"\"\n",
        "\n",
        "with open('hamlet.txt','r') as f:\n",
        "    for line in f:\n",
        "        for word in line.split():\n",
        "           if(len(word) > len(longestword)):\n",
        "             longestword = word\n",
        "print(longestword)  \n",
        "\n",
        "\n",
        "\n",
        "\n",
        "   \n",
        "\n"
      ],
      "execution_count": null,
      "outputs": [
        {
          "output_type": "stream",
          "text": [
            "tragical-comical-historical-pastoral;\n"
          ],
          "name": "stdout"
        }
      ]
    }
  ]
}